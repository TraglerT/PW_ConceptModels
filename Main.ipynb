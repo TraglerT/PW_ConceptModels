{
 "cells": [
  {
   "cell_type": "markdown",
   "source": [
    "Practical Work in AI - Concept Models\n",
    "Tragler Thomas\n",
    "====================\n"
   ],
   "metadata": {
    "collapsed": false
   },
   "id": "1227a7aeda095bcd"
  },
  {
   "cell_type": "code",
   "source": [
    "import sys\n",
    "\n",
    "import pandas as pd\n",
    "import os\n",
    "import torch\n",
    "import torch.nn as nn\n",
    "from torch.utils.data import random_split\n",
    "from torch.utils.data import DataLoader\n",
    "import numpy as np\n",
    "import matplotlib.pyplot as plt\n",
    "import wandb\n",
    "from datetime import datetime\n",
    "import torch.optim as optim\n",
    "from sklearn.model_selection import KFold\n",
    "\n",
    "import derm7pt_data\n",
    "from derm7pt_data import Derm7pt_data\n",
    "\n",
    "from importlib import reload\n",
    "\n",
    "reload(derm7pt_data)"
   ],
   "metadata": {
    "collapsed": false,
    "ExecuteTime": {
     "end_time": "2024-04-20T17:50:08.430548Z",
     "start_time": "2024-04-20T17:50:02.779382Z"
    }
   },
   "id": "fe5d31376103f7ce",
   "outputs": [
    {
     "data": {
      "text/plain": [
       "<module 'derm7pt_data' from 'D:\\\\Business\\\\Uni\\\\Practical Work\\\\PW_ConceptModels\\\\derm7pt_data.py'>"
      ]
     },
     "execution_count": 1,
     "metadata": {},
     "output_type": "execute_result"
    }
   ],
   "execution_count": 1
  },
  {
   "cell_type": "code",
   "source": [
    "from derm7pt_data import Derm7pt_data\n",
    "\n",
    "from importlib import reload\n",
    "reload(derm7pt_data)\n",
    "\n",
    "#Data loading\n",
    "path = os.path.normpath('Data\\\\Derm7pt')\n",
    "\n",
    "derm7pt = Derm7pt_data(path)\n",
    "metadata = derm7pt.metadata\n",
    "print(metadata.shape)\n",
    "device = torch.device(\"cuda\" if torch.cuda.is_available() else \"cpu\")\n",
    "\n",
    "print(\"device:\", device)"
   ],
   "metadata": {
    "collapsed": false,
    "ExecuteTime": {
     "end_time": "2024-04-20T17:50:08.498482Z",
     "start_time": "2024-04-20T17:50:08.432542Z"
    }
   },
   "id": "86077796b8573934",
   "outputs": [
    {
     "name": "stdout",
     "output_type": "stream",
     "text": [
      "(1011, 34)\n",
      "device: cuda\n"
     ]
    }
   ],
   "execution_count": 2
  },
  {
   "cell_type": "code",
   "source": [
    "metadata.columns"
   ],
   "metadata": {
    "collapsed": false,
    "ExecuteTime": {
     "end_time": "2024-04-20T17:50:08.505249Z",
     "start_time": "2024-04-20T17:50:08.499477Z"
    }
   },
   "id": "8655759d3cce7bf6",
   "outputs": [
    {
     "data": {
      "text/plain": [
       "Index(['case_num', 'diagnosis', 'seven_point_score', 'pigment_network',\n",
       "       'streaks', 'pigmentation', 'regression_structures', 'dots_and_globules',\n",
       "       'blue_whitish_veil', 'vascular_structures',\n",
       "       'level_of_diagnostic_difficulty', 'elevation', 'location', 'sex',\n",
       "       'clinic', 'derm', 'diagnosis_num', 'is_cancer', 'abbrevs', 'info',\n",
       "       'pigment_network_num', 'pigment_network_score', 'streaks_num',\n",
       "       'streaks_score', 'pigmentation_num', 'pigmentation_score',\n",
       "       'regression_structures_num', 'regression_structures_score',\n",
       "       'dots_and_globules_num', 'dots_and_globules_score',\n",
       "       'blue_whitish_veil_num', 'blue_whitish_veil_score',\n",
       "       'vascular_structures_num', 'vascular_structures_score'],\n",
       "      dtype='object')"
      ]
     },
     "execution_count": 3,
     "metadata": {},
     "output_type": "execute_result"
    }
   ],
   "execution_count": 3
  },
  {
   "metadata": {},
   "cell_type": "markdown",
   "source": "",
   "id": "82849bae9f8c9019"
  },
  {
   "cell_type": "code",
   "source": [
    "#Torch CNN model with 3 Conv layers and 3 fully connected layers\n",
    "class Net(nn.Module):\n",
    "    def __init__(self, num_classes=1, num_concepts=1, image_size=(192, 128)):\n",
    "        super(Net, self).__init__()\n",
    "        #Size reduction factor of image by pooling layers\n",
    "        mod = 1\n",
    "        \n",
    "        #conv Layers\n",
    "        in_channels, out_channels = (3, 16)\n",
    "        self.conv1 = nn.Conv2d(in_channels=in_channels, out_channels=out_channels, kernel_size=3, stride=1, padding=1)\n",
    "        self.pool1 = nn.MaxPool2d(kernel_size=4, stride=4, padding=0)\n",
    "        mod *= 4\n",
    "        \n",
    "        in_channels, out_channels = (out_channels, 2*out_channels)\n",
    "        self.conv2 = nn.Conv2d(in_channels=in_channels, out_channels=out_channels, kernel_size=3, stride=1, padding=1)\n",
    "        self.pool2 = nn.MaxPool2d(kernel_size=2, stride=2, padding=0)\n",
    "        mod *= 2\n",
    "        \n",
    "        in_channels, out_channels = (out_channels, out_channels)\n",
    "        self.conv3 = nn.Conv2d(in_channels=in_channels, out_channels=out_channels, kernel_size=3, stride=1, padding=1)\n",
    "        self.pool3 = nn.MaxPool2d(kernel_size=2, stride=2, padding=0)\n",
    "        mod *= 2\n",
    "        \n",
    "        # Fully connected layers\n",
    "        self.first_linear_layer_size = out_channels * (image_size[0]//mod * image_size[1]//mod)\n",
    "        self.fc1 = nn.Linear(self.first_linear_layer_size, 256)  \n",
    "        self.fc2 = nn.Linear(256, 64)\n",
    "        self.fc_concepts = nn.Linear(64, num_concepts)  \n",
    "        self.fc_outputs = nn.Linear(num_concepts, num_classes)  \n",
    "        \n",
    "        self.relu = nn.ReLU()\n",
    "        self.softmax = nn.Softmax(dim=1)\n",
    "        self.sigmoid = nn.Sigmoid()\n",
    "\n",
    "    def forward(self, x):\n",
    "        # Convolutional layers with activation and pooling\n",
    "        x = self.relu(self.conv1(x))\n",
    "        x = self.pool1(x)\n",
    "        x = self.relu(self.conv2(x))\n",
    "        x = self.pool2(x)\n",
    "        x = self.relu(self.conv3(x))\n",
    "        x = self.pool3(x)\n",
    "\n",
    "        # Flatten the output for fully connected layers\n",
    "        x = x.view(-1, self.first_linear_layer_size)  # Corrected input size based on spatial dimensions\n",
    "\n",
    "        # Fully connected layers with activation\n",
    "        x = self.relu(self.fc1(x))\n",
    "        x = self.relu(self.fc2(x))\n",
    "        x_concepts = self.sigmoid(self.fc_concepts(x))\n",
    "        x_outputs = self.softmax(self.fc_outputs(x_concepts))\n",
    "\n",
    "        return x_concepts, x_outputs\n",
    "    \n",
    "    \n",
    "def majority_class_baseline(val_idx):\n",
    "    print(\"start validation baseline: \", datetime.now())\n",
    "    majority_loader = DataLoader(\n",
    "        dataset=derm7pt,\n",
    "        batch_size=999999,\n",
    "        sampler=torch.utils.data.SubsetRandomSampler(val_idx),\n",
    "    )\n",
    "    for i, batch in enumerate(majority_loader, 0):\n",
    "        inputs, labels, concept_labels = batch\n",
    "        baseline, simple_val_baseline = majority_class_accuracy_by_labels(labels)\n",
    "        \n",
    "        #concept baseline\n",
    "        concept_baseline = 0\n",
    "        concept_outputs = torch.zeros(len(labels), num_concepts)\n",
    "        concept_val_baseline = ((concept_outputs == concept_labels).sum().item()) / (len(labels)*num_concepts)\n",
    "        \n",
    "        print(\"end validation baseline:   \", datetime.now(), \", baseline: \", baseline, \" percent \",  simple_val_baseline, \" concept_baseline: \", concept_baseline, \" concept_val_baseline: \", concept_val_baseline)\n",
    "        return simple_val_baseline, concept_val_baseline\n",
    "    \n",
    "def majority_class_accuracy_by_labels(true_labels):\n",
    "    # Find the most frequent class in the training set\n",
    "    elems, counts = true_labels.unique(return_counts=True)\n",
    "    majority_count = counts[counts.argmax()]\n",
    "    majority_class = elems[counts.argmax()]\n",
    "    #predictions = torch.full_like(true_labels, majority_class)\n",
    "    accuracy = majority_count / len(true_labels)\n",
    "    return majority_class, accuracy"
   ],
   "metadata": {
    "collapsed": false,
    "ExecuteTime": {
     "end_time": "2024-04-20T17:50:08.522624Z",
     "start_time": "2024-04-20T17:50:08.507240Z"
    }
   },
   "id": "305f0aca53622262",
   "outputs": [],
   "execution_count": 4
  },
  {
   "cell_type": "code",
   "source": [
    "#Training the model\n",
    "# hyperparameters\n",
    "n_epochs = 30\n",
    "learning_rate = 0.01\n",
    "n_folds = 8\n",
    "batch_size = 64\n",
    "\n",
    "num_classes = derm7pt.diagnosis_mapping[derm7pt.model_columns[\"label\"]].nunique()\n",
    "num_concepts = len(derm7pt.concepts_mapping)\n",
    "criterion_concept = nn.BCELoss()\n",
    "criterion = nn.CrossEntropyLoss() #Categorical crossEntropyLoss\n",
    "print('Before Init')\n",
    "\n",
    "wandb.init(\n",
    "    # set the wandb project where this run will be logged\n",
    "    project= \"PracticalWork\",\n",
    "\n",
    "    # track hyperparameters and run metadata\n",
    "    config={\n",
    "    \"learning_rate\": learning_rate,\n",
    "    \"architecture\": \"SimpleCNN\",\n",
    "    \"dataset\": \"derm7pt\",\n",
    "    \"labels\": derm7pt.model_columns[\"label\"],\n",
    "    \"epochs\": n_epochs,\n",
    "    \"batch_size\": batch_size,\n",
    "    \"n_folds\": n_folds,\n",
    "    \"device\": device,\n",
    "    \"num_classes\": num_classes,\n",
    "    \"num_concepts\": num_concepts,\n",
    "    },\n",
    "    name=\"run\"+str(datetime.now())\n",
    ")\n",
    "\n"
   ],
   "metadata": {
    "collapsed": false,
    "ExecuteTime": {
     "end_time": "2024-04-20T18:04:44.579824Z",
     "start_time": "2024-04-20T18:04:42.783559Z"
    }
   },
   "id": "dbd65506a0b0acbd",
   "outputs": [
    {
     "name": "stdout",
     "output_type": "stream",
     "text": [
      "Before Init\n"
     ]
    },
    {
     "data": {
      "text/plain": [
       "<IPython.core.display.HTML object>"
      ],
      "text/html": [
       "Tracking run with wandb version 0.16.6"
      ]
     },
     "metadata": {},
     "output_type": "display_data"
    },
    {
     "data": {
      "text/plain": [
       "<IPython.core.display.HTML object>"
      ],
      "text/html": [
       "Run data is saved locally in <code>D:\\Business\\Uni\\Practical Work\\PW_ConceptModels\\wandb\\run-20240420_200442-k5f6vmiz</code>"
      ]
     },
     "metadata": {},
     "output_type": "display_data"
    },
    {
     "data": {
      "text/plain": [
       "<IPython.core.display.HTML object>"
      ],
      "text/html": [
       "Syncing run <strong><a href='https://wandb.ai/nlp_ass3/PracticalWork/runs/k5f6vmiz' target=\"_blank\">run2024-04-20 20:04:42.788546</a></strong> to <a href='https://wandb.ai/nlp_ass3/PracticalWork' target=\"_blank\">Weights & Biases</a> (<a href='https://wandb.me/run' target=\"_blank\">docs</a>)<br/>"
      ]
     },
     "metadata": {},
     "output_type": "display_data"
    },
    {
     "data": {
      "text/plain": [
       "<IPython.core.display.HTML object>"
      ],
      "text/html": [
       " View project at <a href='https://wandb.ai/nlp_ass3/PracticalWork' target=\"_blank\">https://wandb.ai/nlp_ass3/PracticalWork</a>"
      ]
     },
     "metadata": {},
     "output_type": "display_data"
    },
    {
     "data": {
      "text/plain": [
       "<IPython.core.display.HTML object>"
      ],
      "text/html": [
       " View run at <a href='https://wandb.ai/nlp_ass3/PracticalWork/runs/k5f6vmiz' target=\"_blank\">https://wandb.ai/nlp_ass3/PracticalWork/runs/k5f6vmiz</a>"
      ]
     },
     "metadata": {},
     "output_type": "display_data"
    },
    {
     "data": {
      "text/html": [
       "<button onClick=\"this.nextSibling.style.display='block';this.style.display='none';\">Display W&B run</button><iframe src='https://wandb.ai/nlp_ass3/PracticalWork/runs/k5f6vmiz?jupyter=true' style='border:none;width:100%;height:420px;display:none;'></iframe>"
      ],
      "text/plain": [
       "<wandb.sdk.wandb_run.Run at 0x2a3d1d07f10>"
      ]
     },
     "execution_count": 7,
     "metadata": {},
     "output_type": "execute_result"
    }
   ],
   "execution_count": 7
  },
  {
   "metadata": {
    "ExecuteTime": {
     "end_time": "2024-04-20T18:47:29.422575Z",
     "start_time": "2024-04-20T18:04:44.581820Z"
    }
   },
   "cell_type": "code",
   "source": [
    "# Training loop\n",
    "kf = KFold(n_splits=n_folds, shuffle=True)\n",
    "for fold, (train_idx, val_idx) in enumerate(kf.split(derm7pt.metadata)):\n",
    "    #get the majority class of the validation set\n",
    "    simple_val_baseline, concept_val_baseline = majority_class_baseline(val_idx)      \n",
    "    \n",
    "    train_loader = DataLoader(\n",
    "        dataset=derm7pt,\n",
    "        batch_size=batch_size,\n",
    "        sampler=torch.utils.data.SubsetRandomSampler(train_idx),\n",
    "    )\n",
    "    val_loader = DataLoader(\n",
    "        dataset=derm7pt,\n",
    "        batch_size=batch_size,\n",
    "        sampler=torch.utils.data.SubsetRandomSampler(val_idx),\n",
    "    )\n",
    "    \n",
    "    # Instantiate the model\n",
    "    model = Net(num_classes=num_classes,num_concepts=num_concepts, image_size=derm7pt.image_size)\n",
    "    model.to(device)\n",
    "    optimizer = optim.Adam(model.parameters(), lr=learning_rate)\n",
    "    \n",
    "    for epoch in range(n_epochs):\n",
    "        running_loss = 0.0\n",
    "        running_loss_concepts = 0.0\n",
    "        i = 0\n",
    "        model.train()\n",
    "        for i, batch in enumerate(train_loader, 0):\n",
    "            inputs, labels, concept_labels = batch\n",
    "            #one hot encoding of the label\n",
    "            labels = torch.eye(num_classes)[labels.squeeze().int()]\n",
    "            inputs, labels, concept_labels = inputs.to(device), labels.to(device), concept_labels.to(device)\n",
    "    \n",
    "            # Zero the parameter gradients\n",
    "            optimizer.zero_grad()\n",
    "            # loss for both concepts and outputs\n",
    "            concept_outputs, outputs = model(inputs)\n",
    "            loss_concepts = criterion_concept(concept_outputs, concept_labels)\n",
    "            loss_concepts.backward(retain_graph=True)\n",
    "            loss_outputs = criterion(outputs, labels)\n",
    "            loss_outputs.backward()\n",
    "            optimizer.step()\n",
    "            \n",
    "            # Print statistics\n",
    "            running_loss += loss_outputs.item()\n",
    "            running_loss_concepts += loss_concepts.item()\n",
    "            \n",
    "        running_loss /= (i+1)    \n",
    "        running_loss_concepts /= (i+1)\n",
    "        \n",
    "        # Validation\n",
    "        model.eval()\n",
    "        correct = 0\n",
    "        concept_correct = 0\n",
    "        total = 0\n",
    "        with torch.no_grad():\n",
    "            for i, batch in enumerate(val_loader, 0):\n",
    "                inputs, labels, concept_labels = batch\n",
    "                inputs, labels, concept_labels = inputs.to(device), labels.to(device), concept_labels.to(device)\n",
    "                concept_outputs, outputs = model(inputs)\n",
    "                outputs = outputs.argmax(dim=1)\n",
    "                concept_outputs = concept_outputs.round()\n",
    "                total = labels.size(0)\n",
    "                correct = (outputs == labels).sum().item()\n",
    "                concept_correct = (concept_outputs == concept_labels).sum().item()\n",
    "                \n",
    "        val_accuracy = correct/total\n",
    "        concept_val_accuracy = concept_correct/(total*num_concepts)\n",
    "        wandb.log({\"loss\": running_loss, \"concept_loss:\": running_loss_concepts, \"validation_accuracy\": val_accuracy, \"concept_val_accuracy\": concept_val_accuracy})\n",
    "        print('[%d, %5d] loss: %.4f, val_accuracy: %.4f, simple_baseline: %.4f, concept_0_baseline: %.4f' % (epoch + 1, i + 1, running_loss, val_accuracy, simple_val_baseline, concept_val_baseline))   \n",
    "        \n",
    "    #ToDo only one fold for now\n",
    "    break\n",
    "\n",
    "print('Finished Training')\n",
    "wandb.finish()\n",
    "print('Finished Training')"
   ],
   "id": "fec73a5a86d148e4",
   "outputs": [
    {
     "name": "stdout",
     "output_type": "stream",
     "text": [
      "start validation baseline:  2024-04-20 20:04:44.597776\n",
      "end validation baseline:    2024-04-20 20:04:45.922781 , baseline:  tensor(1)  percent  tensor(0.5276)  concept_baseline:  0  concept_val_baseline:  0.7322834645669292\n",
      "tensor(0.5276) 0.7322834645669292\n",
      "[1,     2] loss: 1.5940, val_accuracy: 0.2698, simple_baseline: 0.5276, concept_0_baseline: 0.7323\n",
      "[2,     2] loss: 1.5310, val_accuracy: 0.3810, simple_baseline: 0.5276, concept_0_baseline: 0.7323\n",
      "[3,     2] loss: 1.4577, val_accuracy: 0.5397, simple_baseline: 0.5276, concept_0_baseline: 0.7323\n",
      "[4,     2] loss: 1.3964, val_accuracy: 0.5397, simple_baseline: 0.5276, concept_0_baseline: 0.7323\n",
      "[5,     2] loss: 1.3757, val_accuracy: 0.5397, simple_baseline: 0.5276, concept_0_baseline: 0.7323\n",
      "[6,     2] loss: 1.3591, val_accuracy: 0.4921, simple_baseline: 0.5276, concept_0_baseline: 0.7323\n",
      "[7,     2] loss: 1.3522, val_accuracy: 0.5556, simple_baseline: 0.5276, concept_0_baseline: 0.7323\n",
      "[8,     2] loss: 1.3506, val_accuracy: 0.4762, simple_baseline: 0.5276, concept_0_baseline: 0.7323\n",
      "[9,     2] loss: 1.3442, val_accuracy: 0.5079, simple_baseline: 0.5276, concept_0_baseline: 0.7323\n",
      "[10,     2] loss: 1.3422, val_accuracy: 0.5079, simple_baseline: 0.5276, concept_0_baseline: 0.7323\n",
      "[11,     2] loss: 1.3416, val_accuracy: 0.5079, simple_baseline: 0.5276, concept_0_baseline: 0.7323\n",
      "[12,     2] loss: 1.3380, val_accuracy: 0.5556, simple_baseline: 0.5276, concept_0_baseline: 0.7323\n",
      "[13,     2] loss: 1.3405, val_accuracy: 0.5079, simple_baseline: 0.5276, concept_0_baseline: 0.7323\n",
      "[14,     2] loss: 1.3372, val_accuracy: 0.5873, simple_baseline: 0.5276, concept_0_baseline: 0.7323\n",
      "[15,     2] loss: 1.3370, val_accuracy: 0.4603, simple_baseline: 0.5276, concept_0_baseline: 0.7323\n",
      "[16,     2] loss: 1.3373, val_accuracy: 0.5079, simple_baseline: 0.5276, concept_0_baseline: 0.7323\n",
      "[17,     2] loss: 1.3354, val_accuracy: 0.5873, simple_baseline: 0.5276, concept_0_baseline: 0.7323\n",
      "[18,     2] loss: 1.3366, val_accuracy: 0.4603, simple_baseline: 0.5276, concept_0_baseline: 0.7323\n",
      "[19,     2] loss: 1.3368, val_accuracy: 0.5397, simple_baseline: 0.5276, concept_0_baseline: 0.7323\n",
      "[20,     2] loss: 1.3338, val_accuracy: 0.5079, simple_baseline: 0.5276, concept_0_baseline: 0.7323\n",
      "[21,     2] loss: 1.3356, val_accuracy: 0.5238, simple_baseline: 0.5276, concept_0_baseline: 0.7323\n",
      "[22,     2] loss: 1.3338, val_accuracy: 0.4603, simple_baseline: 0.5276, concept_0_baseline: 0.7323\n",
      "[23,     2] loss: 1.3332, val_accuracy: 0.5714, simple_baseline: 0.5276, concept_0_baseline: 0.7323\n",
      "[24,     2] loss: 1.3337, val_accuracy: 0.5714, simple_baseline: 0.5276, concept_0_baseline: 0.7323\n",
      "[25,     2] loss: 1.3336, val_accuracy: 0.4603, simple_baseline: 0.5276, concept_0_baseline: 0.7323\n",
      "[26,     2] loss: 1.3335, val_accuracy: 0.6190, simple_baseline: 0.5276, concept_0_baseline: 0.7323\n",
      "[27,     2] loss: 1.3330, val_accuracy: 0.5556, simple_baseline: 0.5276, concept_0_baseline: 0.7323\n",
      "[28,     2] loss: 1.3335, val_accuracy: 0.5714, simple_baseline: 0.5276, concept_0_baseline: 0.7323\n",
      "[29,     2] loss: 1.3334, val_accuracy: 0.5873, simple_baseline: 0.5276, concept_0_baseline: 0.7323\n",
      "[30,     2] loss: 1.3321, val_accuracy: 0.5079, simple_baseline: 0.5276, concept_0_baseline: 0.7323\n",
      "Finished Training\n"
     ]
    },
    {
     "data": {
      "text/plain": [
       "VBox(children=(Label(value='0.001 MB of 0.008 MB uploaded\\r'), FloatProgress(value=0.15375969427897043, max=1.…"
      ],
      "application/vnd.jupyter.widget-view+json": {
       "version_major": 2,
       "version_minor": 0,
       "model_id": "b6b8db2a2d7146a890f539caaa3f93c2"
      }
     },
     "metadata": {},
     "output_type": "display_data"
    },
    {
     "data": {
      "text/plain": [
       "<IPython.core.display.HTML object>"
      ],
      "text/html": [
       "<style>\n",
       "    table.wandb td:nth-child(1) { padding: 0 10px; text-align: left ; width: auto;} td:nth-child(2) {text-align: left ; width: 100%}\n",
       "    .wandb-row { display: flex; flex-direction: row; flex-wrap: wrap; justify-content: flex-start; width: 100% }\n",
       "    .wandb-col { display: flex; flex-direction: column; flex-basis: 100%; flex: 1; padding: 10px; }\n",
       "    </style>\n",
       "<div class=\"wandb-row\"><div class=\"wandb-col\"><h3>Run history:</h3><br/><table class=\"wandb\"><tr><td>concept_loss:</td><td>█▁▁▁▁▁▁▁▁▁▁▁▁▁▁▁▁▁▁▁▁▁▁▁▁▁▁▁▁▁</td></tr><tr><td>concept_val_accuracy</td><td>▆▂▅▄▃▃▇▂▃▇▄▅▄▆▁▃▅▃▆▅▃▄▃▄▃█▃▇▅▅</td></tr><tr><td>loss</td><td>█▆▄▃▂▂▂▁▁▁▁▁▁▁▁▁▁▁▁▁▁▁▁▁▁▁▁▁▁▁</td></tr><tr><td>validation_accuracy</td><td>▁▃▆▆▆▅▇▅▆▆▆▇▆▇▅▆▇▅▆▆▆▅▇▇▅█▇▇▇▆</td></tr></table><br/></div><div class=\"wandb-col\"><h3>Run summary:</h3><br/><table class=\"wandb\"><tr><td>concept_loss:</td><td>0.52553</td></tr><tr><td>concept_val_accuracy</td><td>0.73016</td></tr><tr><td>loss</td><td>1.33212</td></tr><tr><td>validation_accuracy</td><td>0.50794</td></tr></table><br/></div></div>"
      ]
     },
     "metadata": {},
     "output_type": "display_data"
    },
    {
     "data": {
      "text/plain": [
       "<IPython.core.display.HTML object>"
      ],
      "text/html": [
       " View run <strong style=\"color:#cdcd00\">run2024-04-20 20:04:42.788546</strong> at: <a href='https://wandb.ai/nlp_ass3/PracticalWork/runs/k5f6vmiz' target=\"_blank\">https://wandb.ai/nlp_ass3/PracticalWork/runs/k5f6vmiz</a><br/> View project at: <a href='https://wandb.ai/nlp_ass3/PracticalWork' target=\"_blank\">https://wandb.ai/nlp_ass3/PracticalWork</a><br/>Synced 5 W&B file(s), 0 media file(s), 0 artifact file(s) and 0 other file(s)"
      ]
     },
     "metadata": {},
     "output_type": "display_data"
    },
    {
     "data": {
      "text/plain": [
       "<IPython.core.display.HTML object>"
      ],
      "text/html": [
       "Find logs at: <code>.\\wandb\\run-20240420_200442-k5f6vmiz\\logs</code>"
      ]
     },
     "metadata": {},
     "output_type": "display_data"
    },
    {
     "name": "stdout",
     "output_type": "stream",
     "text": [
      "Finished Training\n"
     ]
    }
   ],
   "execution_count": 8
  },
  {
   "metadata": {
    "ExecuteTime": {
     "end_time": "2024-04-20T17:57:31.117924Z",
     "start_time": "2024-04-20T17:57:31.115374Z"
    }
   },
   "cell_type": "code",
   "source": "",
   "id": "5f2afc98093dc8ae",
   "outputs": [],
   "execution_count": 6
  }
 ],
 "metadata": {
  "kernelspec": {
   "display_name": "Python 3",
   "language": "python",
   "name": "python3"
  },
  "language_info": {
   "codemirror_mode": {
    "name": "ipython",
    "version": 2
   },
   "file_extension": ".py",
   "mimetype": "text/x-python",
   "name": "python",
   "nbconvert_exporter": "python",
   "pygments_lexer": "ipython2",
   "version": "2.7.6"
  }
 },
 "nbformat": 4,
 "nbformat_minor": 5
}
