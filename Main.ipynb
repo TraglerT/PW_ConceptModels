{
 "cells": [
  {
   "cell_type": "markdown",
   "source": [
    "Practical Work in AI - Concept Models\n",
    "Tragler Thomas\n",
    "====================\n"
   ],
   "metadata": {
    "collapsed": false
   },
   "id": "1227a7aeda095bcd"
  },
  {
   "cell_type": "code",
   "outputs": [
    {
     "name": "stdout",
     "output_type": "stream",
     "text": [
      "(1011, 19) 2013\n"
     ]
    }
   ],
   "source": [
    "from importlib import reload\n",
    "import pandas as pd\n",
    "import os\n",
    "import torch\n",
    "from torch.utils.data import random_split\n",
    "from torch.utils.data import DataLoader\n",
    "import numpy as np\n",
    "import matplotlib.pyplot as plt\n",
    "\n",
    "import derm7pt_data\n",
    "from derm7pt_data import Derm7pt_data\n",
    "\n",
    "\n",
    "reload(derm7pt_data)\n",
    "\n",
    "path = os.path.normpath('Data\\\\Derm7pt')\n",
    "\n",
    "derm7pt = Derm7pt_data(path)\n",
    "metadata = derm7pt.metadata\n",
    "print(metadata.shape, len(derm7pt.images))"
   ],
   "metadata": {
    "collapsed": false,
    "ExecuteTime": {
     "end_time": "2024-03-11T18:56:13.945319Z",
     "start_time": "2024-03-11T18:56:04.716729Z"
    }
   },
   "id": "fe5d31376103f7ce",
   "execution_count": 1
  },
  {
   "cell_type": "code",
   "outputs": [
    {
     "name": "stdout",
     "output_type": "stream",
     "text": [
      "device:  cuda\n"
     ]
    }
   ],
   "source": [
    "#Data loading\n",
    "device = torch.device(\"cuda\" if torch.cuda.is_available() else \"cpu\")\n",
    "print(\"device:\", device)\n",
    "my_dataset = metadata\n",
    "\n",
    "#split data into training, validation and test sets\n",
    "train_size = int(0.8 * len(my_dataset))\n",
    "val_size = int(0.15 * len(my_dataset))\n",
    "test_size = len(my_dataset) - train_size - val_size\n",
    "#ToDo stratified sampling\n",
    "#overall weird spliting ToDo\n",
    "#train_split, val_split, test_split = random_split(my_dataset, [train_size, val_size, test_size])\n",
    "\n",
    "#train_data, train_concepts, train_label = derm7pt.data_split_by_index(train_split.indices)\n",
    "#val_data, val_concepts, val_label = derm7pt.data_split_by_index(val_split.indices)\n",
    "#test_data, test_concepts, test_label = derm7pt.data_split_by_index(test_split.indices)\n",
    "\n",
    "#Dataload\n",
    "train_loader = DataLoader(derm7pt, batch_size=32, shuffle=False)\n"
   ],
   "metadata": {
    "collapsed": false,
    "ExecuteTime": {
     "end_time": "2024-03-11T18:56:13.969553Z",
     "start_time": "2024-03-11T18:56:13.946319Z"
    }
   },
   "id": "86077796b8573934",
   "execution_count": 2
  },
  {
   "cell_type": "code",
   "outputs": [
    {
     "data": {
      "text/plain": "Index(['case_num', 'diagnosis', 'seven_point_score', 'pigment_network',\n       'streaks', 'pigmentation', 'regression_structures', 'dots_and_globules',\n       'blue_whitish_veil', 'vascular_structures',\n       'level_of_diagnostic_difficulty', 'elevation', 'location', 'sex',\n       'clinic', 'derm', 'nums', 'abbrevs', 'info'],\n      dtype='object')"
     },
     "execution_count": 3,
     "metadata": {},
     "output_type": "execute_result"
    }
   ],
   "source": [
    "my_dataset.columns"
   ],
   "metadata": {
    "collapsed": false,
    "ExecuteTime": {
     "end_time": "2024-03-11T18:56:13.978182Z",
     "start_time": "2024-03-11T18:56:13.971552Z"
    }
   },
   "id": "8655759d3cce7bf6",
   "execution_count": 3
  },
  {
   "cell_type": "code",
   "outputs": [],
   "source": [
    "#Torch CNN model with 3 Conv layers and 3 fully connected layers\n",
    "import torch.nn as nn\n",
    "\n",
    "class Net(nn.Module):\n",
    "    def __init__(self):\n",
    "        super(Net, self).__init__()\n",
    "        #conv Layers\n",
    "        in_channels, out_channels = (3, 16)\n",
    "        self.conv1 = nn.Conv2d(in_channels=in_channels, out_channels=out_channels, kernel_size=3, stride=1, padding=1)\n",
    "        # in_channels, out_channels = (out_channels, 2*out_channels)\n",
    "        # self.conv2 = nn.Conv2d(in_channels=in_channels, out_channels=out_channels, kernel_size=3, stride=1, padding=1)\n",
    "        # in_channels, out_channels = (out_channels, 2*out_channels)\n",
    "        # self.conv3 = nn.Conv2d(in_channels=in_channels, out_channels=out_channels, kernel_size=3, stride=1, padding=1)\n",
    "        \n",
    "        #Max pooling layers\n",
    "        self.pool = nn.MaxPool2d(kernel_size=4, stride=4, padding=0)\n",
    "        \n",
    "        self.channels_before_linear = out_channels\n",
    "        # Fully connected layers\n",
    "        self.fc1 = nn.Linear(self.channels_before_linear * 192 * 128, 128)  # Adjust the input size based on your image dimensions\n",
    "        self.fc2 = nn.Linear(128, 128)\n",
    "        self.fc3 = nn.Linear(128, 1)  # Output layer with one neuron for binary classification\n",
    "        \n",
    "        self.relu = nn.ReLU()\n",
    "\n",
    "    def forward(self, x):\n",
    "        # Convolutional layers with activation and pooling\n",
    "        x = self.relu(self.conv1(x))\n",
    "        # x = self.relu(self.conv2(x))\n",
    "        # x = self.relu(self.conv3(x))\n",
    "        \n",
    "        #Pooling layer\n",
    "        x = self.pool(x)\n",
    "\n",
    "        # Flatten the output for fully connected layers\n",
    "        x = x.view(-1, self.channels_before_linear * 192 * 128)  # Corrected input size based on spatial dimensions\n",
    "\n",
    "        # Fully connected layers with activation\n",
    "        x = self.relu(self.fc1(x))\n",
    "        # x = self.relu(self.fc2(x))\n",
    "        x = self.fc3(x)\n",
    "\n",
    "        return x\n",
    "    "
   ],
   "metadata": {
    "collapsed": false,
    "ExecuteTime": {
     "end_time": "2024-03-11T18:56:13.985999Z",
     "start_time": "2024-03-11T18:56:13.979183Z"
    }
   },
   "id": "305f0aca53622262",
   "execution_count": 4
  },
  {
   "cell_type": "code",
   "outputs": [
    {
     "name": "stdout",
     "output_type": "stream",
     "text": [
      "[1,    10] loss: 17.351\n",
      "[1,    20] loss: -38.905\n",
      "[1,    30] loss: -386.171\n",
      "[2,    10] loss: 155.553\n",
      "[2,    20] loss: -1266.914\n",
      "[2,    30] loss: -4679.586\n",
      "[3,    10] loss: 1306.549\n",
      "[3,    20] loss: -8919.701\n",
      "[3,    30] loss: -25973.174\n",
      "Finished Training\n"
     ]
    }
   ],
   "source": [
    "#Training the model\n",
    "import torch.optim as optim\n",
    "\n",
    "# Instantiate the model\n",
    "model = Net()\n",
    "model.to(device)\n",
    "\n",
    "# Loss function and optimizer\n",
    "criterion = nn.BCEWithLogitsLoss()\n",
    "optimizer = optim.Adam(model.parameters(), lr=0.001)\n",
    "\n",
    "# Training loop\n",
    "n_epochs = 3\n",
    "for epoch in range(n_epochs):\n",
    "    running_loss = 0.0\n",
    "    for i, batch in enumerate(train_loader, 0):\n",
    "        inputs, labels = batch\n",
    "        inputs, labels = inputs.to(device), labels.to(device)\n",
    "\n",
    "        # Zero the parameter gradients\n",
    "        optimizer.zero_grad()\n",
    "\n",
    "        # Forward pass, backward pass, and optimization\n",
    "        outputs = model(inputs)\n",
    "        loss = criterion(outputs, labels)\n",
    "        loss.backward()\n",
    "        optimizer.step()\n",
    "\n",
    "        # Print statistics\n",
    "        running_loss += loss.item()\n",
    "        if i % 10 == 9:    # Print every 10 mini-batches\n",
    "            print('[%d, %5d] loss: %.3f' %\n",
    "                  (epoch + 1, i + 1, running_loss / 10))\n",
    "            running_loss = 0.0\n",
    "    #break\n",
    "print('Finished Training')"
   ],
   "metadata": {
    "collapsed": false,
    "ExecuteTime": {
     "end_time": "2024-03-11T18:56:40.308319Z",
     "start_time": "2024-03-11T18:56:13.987Z"
    }
   },
   "id": "dbd65506a0b0acbd",
   "execution_count": 5
  },
  {
   "cell_type": "code",
   "outputs": [],
   "source": [
    "#TODO Labels are not binary"
   ],
   "metadata": {
    "collapsed": false,
    "ExecuteTime": {
     "end_time": "2024-03-11T18:56:40.313731Z",
     "start_time": "2024-03-11T18:56:40.310316Z"
    }
   },
   "id": "353149e3bfb832fb",
   "execution_count": 6
  }
 ],
 "metadata": {
  "kernelspec": {
   "display_name": "Python 3",
   "language": "python",
   "name": "python3"
  },
  "language_info": {
   "codemirror_mode": {
    "name": "ipython",
    "version": 2
   },
   "file_extension": ".py",
   "mimetype": "text/x-python",
   "name": "python",
   "nbconvert_exporter": "python",
   "pygments_lexer": "ipython2",
   "version": "2.7.6"
  }
 },
 "nbformat": 4,
 "nbformat_minor": 5
}
