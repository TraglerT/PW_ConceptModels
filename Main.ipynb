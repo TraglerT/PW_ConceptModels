{
 "cells": [
  {
   "metadata": {},
   "cell_type": "markdown",
   "source": [
    "Practical Work in AI - Concept Bootleneck Models<br>\n",
    "Tragler Thomas <br>\n",
    "====================<br>\n"
   ],
   "id": "7aef6b5c67a97686"
  },
  {
   "metadata": {
    "ExecuteTime": {
     "end_time": "2024-08-20T15:46:35.286705Z",
     "start_time": "2024-08-20T15:46:35.281043Z"
    }
   },
   "cell_type": "code",
   "source": [
    "import os\n",
    "import torch\n",
    "import torch.nn as nn\n",
    "from torch.utils.data import DataLoader\n",
    "import matplotlib.pyplot as plt\n",
    "import wandb\n",
    "from datetime import datetime\n",
    "import torch.optim as optim\n",
    "from sklearn.model_selection import KFold\n",
    "\n",
    "import derm7pt_data\n",
    "from derm7pt_data import Derm7pt_data\n",
    "from Model import Simple_CNN_Net, Simple_CNN_PerfectConcepts, Concept_To_Label_Net\n",
    "\n",
    "from importlib import reload"
   ],
   "id": "fe36ad3cf2bea0a3",
   "outputs": [],
   "execution_count": 13
  },
  {
   "metadata": {
    "ExecuteTime": {
     "end_time": "2024-08-20T15:46:35.356153Z",
     "start_time": "2024-08-20T15:46:35.314628Z"
    }
   },
   "cell_type": "code",
   "source": [
    "reload(derm7pt_data)\n",
    "#reload(Model)\n",
    "\n",
    "#Data loading\n",
    "random_state = 42\n",
    "torch.manual_seed(random_state)\n",
    "path = os.path.normpath('Data\\\\Derm7pt')\n",
    "\n",
    "derm7pt = Derm7pt_data(path)\n",
    "metadata = derm7pt.metadata\n",
    "print(\"Data shape:\", metadata.shape)\n",
    "device = torch.device(\"cuda\" if torch.cuda.is_available() else \"cpu\")\n",
    "\n",
    "print(\"device:\", device)"
   ],
   "id": "c5c0335ba5bc8fee",
   "outputs": [
    {
     "name": "stdout",
     "output_type": "stream",
     "text": [
      "Data shape: (1011, 34)\n",
      "device: cuda\n"
     ]
    }
   ],
   "execution_count": 14
  },
  {
   "metadata": {
    "ExecuteTime": {
     "end_time": "2024-08-20T15:46:35.365298Z",
     "start_time": "2024-08-20T15:46:35.357149Z"
    }
   },
   "cell_type": "code",
   "source": "metadata.columns",
   "id": "a0cb8cb96a11e0d4",
   "outputs": [
    {
     "data": {
      "text/plain": [
       "Index(['case_num', 'diagnosis', 'seven_point_score', 'pigment_network',\n",
       "       'streaks', 'pigmentation', 'regression_structures', 'dots_and_globules',\n",
       "       'blue_whitish_veil', 'vascular_structures',\n",
       "       'level_of_diagnostic_difficulty', 'elevation', 'location', 'sex',\n",
       "       'clinic', 'derm', 'diagnosis_num', 'is_cancer', 'abbrevs', 'info',\n",
       "       'pigment_network_num', 'pigment_network_score', 'streaks_num',\n",
       "       'streaks_score', 'pigmentation_num', 'pigmentation_score',\n",
       "       'regression_structures_num', 'regression_structures_score',\n",
       "       'dots_and_globules_num', 'dots_and_globules_score',\n",
       "       'blue_whitish_veil_num', 'blue_whitish_veil_score',\n",
       "       'vascular_structures_num', 'vascular_structures_score'],\n",
       "      dtype='object')"
      ]
     },
     "execution_count": 15,
     "metadata": {},
     "output_type": "execute_result"
    }
   ],
   "execution_count": 15
  },
  {
   "metadata": {},
   "cell_type": "markdown",
   "source": "",
   "id": "447225b0c9de8e81"
  },
  {
   "metadata": {
    "ExecuteTime": {
     "end_time": "2024-08-20T15:46:35.377786Z",
     "start_time": "2024-08-20T15:46:35.366293Z"
    }
   },
   "cell_type": "code",
   "source": [
    "#Help functions to calculate the majority class baseline    \n",
    "def majority_class_baseline(val_idx, mode_txt=\"\"):\n",
    "    print(\"start \", mode_txt, \" baseline: \", datetime.now())\n",
    "    majority_loader = DataLoader(\n",
    "        dataset=derm7pt,\n",
    "        batch_size=999999,\n",
    "        sampler=torch.utils.data.SubsetRandomSampler(val_idx),\n",
    "    )\n",
    "    for i, batch in enumerate(majority_loader, 0):\n",
    "        inputs, labels, concept_labels = batch\n",
    "        baseline, simple_val_baseline = majority_class_accuracy_by_labels(labels)\n",
    "        \n",
    "        #concept baseline\n",
    "        concept_baseline = 0\n",
    "        concept_outputs = torch.zeros(len(labels), num_concepts)\n",
    "        concept_val_baseline = ((concept_outputs == concept_labels).sum().item()) / (len(labels)*num_concepts)\n",
    "        \n",
    "        print(\"end \", mode_txt, \" baseline:   \", datetime.now(), \", baseline: \", baseline, \" percent \",  simple_val_baseline, \" concept_baseline: \", concept_baseline, \" concept_val_baseline: \", concept_val_baseline)\n",
    "        return simple_val_baseline, concept_val_baseline\n",
    "    \n",
    "def majority_class_accuracy_by_labels(true_labels):\n",
    "    # Find the most frequent class in the training set\n",
    "    elems, counts = true_labels.unique(return_counts=True)\n",
    "    majority_count = counts[counts.argmax()]\n",
    "    majority_class = elems[counts.argmax()]\n",
    "    #predictions = torch.full_like(true_labels, majority_class)\n",
    "    accuracy = majority_count / len(true_labels)\n",
    "    return majority_class, accuracy"
   ],
   "id": "3e576d41dc4cae34",
   "outputs": [],
   "execution_count": 16
  },
  {
   "metadata": {},
   "cell_type": "markdown",
   "source": "",
   "id": "6eb5db315ee2ea6e"
  },
  {
   "metadata": {
    "ExecuteTime": {
     "end_time": "2024-08-20T15:46:44.323725Z",
     "start_time": "2024-08-20T15:46:35.379770Z"
    }
   },
   "cell_type": "code",
   "source": [
    "#Training the model\n",
    "# hyperparameters\n",
    "n_epochs = 50\n",
    "learning_rate = 0.0002\n",
    "n_folds = 8\n",
    "batch_size = 8\n",
    "learn_concepts = True   #Defines if loss should be calculated for concepts\n",
    "\n",
    "num_classes = derm7pt.diagnosis_mapping[derm7pt.model_columns[\"label\"]].nunique()\n",
    "num_concepts = len(derm7pt.concepts_mapping)\n",
    "criterion_concept = nn.BCELoss()\n",
    "criterion = nn.CrossEntropyLoss() #Categorical crossEntropyLoss\n",
    "\n",
    "#split up init form main training loop, because of faulty display of print statements during training\n",
    "wandb.init(\n",
    "    # set the wandb project where this run will be logged\n",
    "    project= \"PracticalWork\",\n",
    "\n",
    "    # track hyperparameters and run metadata\n",
    "    config={\n",
    "    \"learning_rate\": learning_rate,\n",
    "    \"architecture\": \"Simple_CNN_Net\",\n",
    "    \"dataset\": \"derm7pt\",\n",
    "    \"labels\": derm7pt.model_columns[\"label\"],\n",
    "    \"epochs\": n_epochs,\n",
    "    \"batch_size\": batch_size,\n",
    "    \"n_folds\": n_folds,\n",
    "    \"device\": device,\n",
    "    \"num_classes\": num_classes,\n",
    "    \"num_concepts\": num_concepts,\n",
    "    \"learn_concepts\": learn_concepts,\n",
    "    \"random_state\": random_state,\n",
    "    },\n",
    "    name=\"run\"+str(datetime.now())\n",
    ")"
   ],
   "id": "af32a612784e9f91",
   "outputs": [
    {
     "data": {
      "text/plain": [
       "<IPython.core.display.HTML object>"
      ],
      "text/html": [
       "Finishing last run (ID:0p6wxgz6) before initializing another..."
      ]
     },
     "metadata": {},
     "output_type": "display_data"
    },
    {
     "data": {
      "text/plain": [
       "VBox(children=(Label(value='0.001 MB of 0.001 MB uploaded\\r'), FloatProgress(value=1.0, max=1.0)))"
      ],
      "application/vnd.jupyter.widget-view+json": {
       "version_major": 2,
       "version_minor": 0,
       "model_id": "38ded191bfe24363b71863338af5e67e"
      }
     },
     "metadata": {},
     "output_type": "display_data"
    },
    {
     "data": {
      "text/plain": [
       "<IPython.core.display.HTML object>"
      ],
      "text/html": [
       "<style>\n",
       "    table.wandb td:nth-child(1) { padding: 0 10px; text-align: left ; width: auto;} td:nth-child(2) {text-align: left ; width: 100%}\n",
       "    .wandb-row { display: flex; flex-direction: row; flex-wrap: wrap; justify-content: flex-start; width: 100% }\n",
       "    .wandb-col { display: flex; flex-direction: column; flex-basis: 100%; flex: 1; padding: 10px; }\n",
       "    </style>\n",
       "<div class=\"wandb-row\"><div class=\"wandb-col\"><h3>Run history:</h3><br/><table class=\"wandb\"><tr><td>concept_loss:</td><td>█▅▄▃▃▃▂▁▁</td></tr><tr><td>concept_val_accuracy</td><td>▁▁▄▅▇▅▅██</td></tr><tr><td>loss</td><td>██▇▆▅▄▃▂▁</td></tr><tr><td>train_accuracy</td><td>▁▁▁▁▄▇▇██</td></tr><tr><td>train_concept_accuracy</td><td>▁▄▅▆▆▆▇▇█</td></tr><tr><td>validation_accuracy</td><td>▁▁▁▃▅████</td></tr></table><br/></div><div class=\"wandb-col\"><h3>Run summary:</h3><br/><table class=\"wandb\"><tr><td>concept_loss:</td><td>0.48166</td></tr><tr><td>concept_val_accuracy</td><td>0.79415</td></tr><tr><td>loss</td><td>1.60558</td></tr><tr><td>train_accuracy</td><td>0.20249</td></tr><tr><td>train_concept_accuracy</td><td>0.77553</td></tr><tr><td>validation_accuracy</td><td>0.19685</td></tr></table><br/></div></div>"
      ]
     },
     "metadata": {},
     "output_type": "display_data"
    },
    {
     "data": {
      "text/plain": [
       "<IPython.core.display.HTML object>"
      ],
      "text/html": [
       " View run <strong style=\"color:#cdcd00\">run2024-08-20 17:42:58.633473</strong> at: <a href='https://wandb.ai/nlp_ass3/PracticalWork/runs/0p6wxgz6' target=\"_blank\">https://wandb.ai/nlp_ass3/PracticalWork/runs/0p6wxgz6</a><br/> View project at: <a href='https://wandb.ai/nlp_ass3/PracticalWork' target=\"_blank\">https://wandb.ai/nlp_ass3/PracticalWork</a><br/>Synced 5 W&B file(s), 0 media file(s), 0 artifact file(s) and 0 other file(s)"
      ]
     },
     "metadata": {},
     "output_type": "display_data"
    },
    {
     "data": {
      "text/plain": [
       "<IPython.core.display.HTML object>"
      ],
      "text/html": [
       "Find logs at: <code>.\\wandb\\run-20240820_174258-0p6wxgz6\\logs</code>"
      ]
     },
     "metadata": {},
     "output_type": "display_data"
    },
    {
     "data": {
      "text/plain": [
       "<IPython.core.display.HTML object>"
      ],
      "text/html": [
       "Successfully finished last run (ID:0p6wxgz6). Initializing new run:<br/>"
      ]
     },
     "metadata": {},
     "output_type": "display_data"
    },
    {
     "data": {
      "text/plain": [
       "VBox(children=(Label(value='Waiting for wandb.init()...\\r'), FloatProgress(value=0.011111111111111112, max=1.0…"
      ],
      "application/vnd.jupyter.widget-view+json": {
       "version_major": 2,
       "version_minor": 0,
       "model_id": "a3b55eed3d6d45cda79f4e08b71ce150"
      }
     },
     "metadata": {},
     "output_type": "display_data"
    },
    {
     "data": {
      "text/plain": [
       "<IPython.core.display.HTML object>"
      ],
      "text/html": [
       "wandb version 0.17.7 is available!  To upgrade, please run:\n",
       " $ pip install wandb --upgrade"
      ]
     },
     "metadata": {},
     "output_type": "display_data"
    },
    {
     "data": {
      "text/plain": [
       "<IPython.core.display.HTML object>"
      ],
      "text/html": [
       "Tracking run with wandb version 0.16.6"
      ]
     },
     "metadata": {},
     "output_type": "display_data"
    },
    {
     "data": {
      "text/plain": [
       "<IPython.core.display.HTML object>"
      ],
      "text/html": [
       "Run data is saved locally in <code>D:\\Business\\Uni\\Practical Work\\PW_ConceptModels\\wandb\\run-20240820_174635-kvrjj2i3</code>"
      ]
     },
     "metadata": {},
     "output_type": "display_data"
    },
    {
     "data": {
      "text/plain": [
       "<IPython.core.display.HTML object>"
      ],
      "text/html": [
       "Syncing run <strong><a href='https://wandb.ai/nlp_ass3/PracticalWork/runs/kvrjj2i3' target=\"_blank\">run2024-08-20 17:46:35.387749</a></strong> to <a href='https://wandb.ai/nlp_ass3/PracticalWork' target=\"_blank\">Weights & Biases</a> (<a href='https://wandb.me/run' target=\"_blank\">docs</a>)<br/>"
      ]
     },
     "metadata": {},
     "output_type": "display_data"
    },
    {
     "data": {
      "text/plain": [
       "<IPython.core.display.HTML object>"
      ],
      "text/html": [
       " View project at <a href='https://wandb.ai/nlp_ass3/PracticalWork' target=\"_blank\">https://wandb.ai/nlp_ass3/PracticalWork</a>"
      ]
     },
     "metadata": {},
     "output_type": "display_data"
    },
    {
     "data": {
      "text/plain": [
       "<IPython.core.display.HTML object>"
      ],
      "text/html": [
       " View run at <a href='https://wandb.ai/nlp_ass3/PracticalWork/runs/kvrjj2i3' target=\"_blank\">https://wandb.ai/nlp_ass3/PracticalWork/runs/kvrjj2i3</a>"
      ]
     },
     "metadata": {},
     "output_type": "display_data"
    },
    {
     "data": {
      "text/html": [
       "<button onClick=\"this.nextSibling.style.display='block';this.style.display='none';\">Display W&B run</button><iframe src='https://wandb.ai/nlp_ass3/PracticalWork/runs/kvrjj2i3?jupyter=true' style='border:none;width:100%;height:420px;display:none;'></iframe>"
      ],
      "text/plain": [
       "<wandb.sdk.wandb_run.Run at 0x1a9b9c77c50>"
      ]
     },
     "execution_count": 17,
     "metadata": {},
     "output_type": "execute_result"
    }
   ],
   "execution_count": 17
  },
  {
   "metadata": {
    "jupyter": {
     "is_executing": true
    },
    "ExecuteTime": {
     "start_time": "2024-08-20T15:46:44.325718Z"
    }
   },
   "cell_type": "code",
   "source": [
    "''# Training loop\n",
    "kf = KFold(n_splits=n_folds, shuffle=True, random_state=random_state)\n",
    "for fold, (train_idx, val_idx) in enumerate(kf.split(derm7pt.metadata)):\n",
    "    #get the majority class of the validation set\n",
    "    simple_val_baseline, concept_val_baseline = majority_class_baseline(val_idx, \"validation\")      \n",
    "    \n",
    "    train_loader = DataLoader(\n",
    "        dataset=derm7pt,\n",
    "        batch_size=batch_size,\n",
    "        sampler=torch.utils.data.SubsetRandomSampler(train_idx),\n",
    "    )\n",
    "    val_loader = DataLoader(\n",
    "        dataset=derm7pt,\n",
    "        batch_size=batch_size,\n",
    "        sampler=torch.utils.data.SubsetRandomSampler(val_idx),\n",
    "    )\n",
    "    \n",
    "    # Instantiate the model\n",
    "    model = Simple_CNN_Net(num_classes=num_classes,num_concepts=num_concepts, image_size=derm7pt.image_size)\n",
    "    model.to(device)\n",
    "    optimizer = optim.Adam(model.parameters(), lr=learning_rate)\n",
    "    \n",
    "    for epoch in range(n_epochs):\n",
    "        running_loss = 0.0\n",
    "        running_loss_concepts = 0.0\n",
    "        i = 0\n",
    "        train_total_correct = 0\n",
    "        train_concepts_total_correct = 0\n",
    "        model.train()\n",
    "        for i, batch in enumerate(train_loader, 0):\n",
    "            inputs, labels, concept_labels = batch\n",
    "            #one hot encoding of the label\n",
    "            hot_labels = torch.eye(num_classes)[labels.squeeze().int()]\n",
    "            inputs, hot_labels, concept_labels = inputs.to(device), hot_labels.to(device), concept_labels.to(device)\n",
    "    \n",
    "            # Zero the parameter gradients\n",
    "            optimizer.zero_grad()\n",
    "            # forward pass for both concepts and outputs\n",
    "            concept_outputs, outputs = model(inputs)\n",
    "            if learn_concepts:\n",
    "                loss_concepts = criterion_concept(concept_outputs, concept_labels)\n",
    "                loss_concepts.backward(retain_graph=True)\n",
    "                # statistics: average loss\n",
    "                running_loss_concepts += loss_concepts.item()\n",
    "                \n",
    "                # concept accuracy\n",
    "                train_concepts_total_correct += (concept_outputs.round() == concept_labels).sum().item()\n",
    "            loss_outputs = criterion(outputs, hot_labels)\n",
    "            loss_outputs.backward()\n",
    "            optimizer.step()\n",
    "            # statistics: average loss\n",
    "            running_loss += loss_outputs.item()\n",
    "            \n",
    "            # train accuracy\n",
    "            _, predicted = torch.max(outputs, 1)\n",
    "            train_total_correct += (predicted == hot_labels.argmax(dim=1)).sum().item()\n",
    "            #if i%80 == 0:\n",
    "                #print(\"i \", i, predicted, \"\\n\", labels, \"\\n\", outputs)\n",
    "            \n",
    "            \n",
    "        running_loss /= (i+1)    \n",
    "        running_loss_concepts /= (i+1)\n",
    "        train_accuracy = train_total_correct / len(train_idx)\n",
    "        concept_train_accuracy = train_concepts_total_correct / (len(train_idx)*num_concepts)\n",
    "        \n",
    "        \n",
    "        # Validation\n",
    "        model.eval()\n",
    "        correct = 0\n",
    "        concept_correct = 0\n",
    "        total = 0\n",
    "        with torch.no_grad():\n",
    "            for i, batch in enumerate(val_loader, 0):\n",
    "                inputs, labels, concept_labels = batch\n",
    "                inputs, labels, concept_labels = inputs.to(device), labels.to(device), concept_labels.to(device)\n",
    "                concept_outputs, outputs = model(inputs)\n",
    "                outputs = outputs.argmax(dim=1)\n",
    "                total += labels.size(0)\n",
    "                correct += (outputs == labels).sum().item()\n",
    "                concept_correct += (concept_outputs.round() == concept_labels).sum().item()\n",
    "        val_accuracy = correct/total\n",
    "        concept_val_accuracy = concept_correct/(total*num_concepts)\n",
    "        wandb.log({\"loss\": running_loss, \"train_accuracy\": train_accuracy, \"concept_loss:\": running_loss_concepts, \"concept_train_accuracy\": concept_train_accuracy, \"validation_accuracy\": val_accuracy, \"concept_validation_accuracy\": concept_val_accuracy})\n",
    "        print('[%d, %3d] loss: %.4f, val_accuracy: %.4f, simple_baseline: %.4f, concept_0_baseline: %.4f' % (epoch + 1, i + 1, running_loss, val_accuracy, simple_val_baseline, concept_val_baseline))   \n",
    "        \n",
    "    #ToDo only one fold for now\n",
    "    break\n",
    "\n",
    "wandb.finish()\n",
    "print('Finished Training')"
   ],
   "id": "2b56d462931de006",
   "outputs": [
    {
     "name": "stdout",
     "output_type": "stream",
     "text": [
      "start  validation  baseline:  2024-08-20 17:46:44.340677\n",
      "end  validation  baseline:    2024-08-20 17:46:45.569982 , baseline:  tensor(1)  percent  tensor(0.5984)  concept_baseline:  0  concept_val_baseline:  0.7716535433070866\n",
      "[1,  16] loss: 1.6237, val_accuracy: 0.0315, simple_baseline: 0.5984, concept_0_baseline: 0.7717\n",
      "[2,  16] loss: 1.6161, val_accuracy: 0.1969, simple_baseline: 0.5984, concept_0_baseline: 0.7717\n",
      "[3,  16] loss: 1.6054, val_accuracy: 0.1890, simple_baseline: 0.5984, concept_0_baseline: 0.7717\n",
      "[4,  16] loss: 1.5955, val_accuracy: 0.2441, simple_baseline: 0.5984, concept_0_baseline: 0.7717\n",
      "[5,  16] loss: 1.5865, val_accuracy: 0.2441, simple_baseline: 0.5984, concept_0_baseline: 0.7717\n",
      "[6,  16] loss: 1.5755, val_accuracy: 0.2441, simple_baseline: 0.5984, concept_0_baseline: 0.7717\n",
      "[7,  16] loss: 1.5671, val_accuracy: 0.2835, simple_baseline: 0.5984, concept_0_baseline: 0.7717\n",
      "[8,  16] loss: 1.5570, val_accuracy: 0.4803, simple_baseline: 0.5984, concept_0_baseline: 0.7717\n",
      "[9,  16] loss: 1.5466, val_accuracy: 0.4331, simple_baseline: 0.5984, concept_0_baseline: 0.7717\n",
      "[10,  16] loss: 1.5362, val_accuracy: 0.4646, simple_baseline: 0.5984, concept_0_baseline: 0.7717\n",
      "[11,  16] loss: 1.5300, val_accuracy: 0.6063, simple_baseline: 0.5984, concept_0_baseline: 0.7717\n",
      "[12,  16] loss: 1.5170, val_accuracy: 0.5669, simple_baseline: 0.5984, concept_0_baseline: 0.7717\n",
      "[13,  16] loss: 1.5076, val_accuracy: 0.6457, simple_baseline: 0.5984, concept_0_baseline: 0.7717\n"
     ]
    }
   ],
   "execution_count": null
  },
  {
   "metadata": {
    "jupyter": {
     "is_executing": true
    }
   },
   "cell_type": "code",
   "source": "",
   "id": "8fde6712bdfa6b3a",
   "outputs": [],
   "execution_count": null
  },
  {
   "metadata": {
    "jupyter": {
     "is_executing": true
    }
   },
   "cell_type": "code",
   "source": "",
   "id": "d8cef1fa7c3ec177",
   "outputs": [],
   "execution_count": null
  }
 ],
 "metadata": {
  "kernelspec": {
   "display_name": "Python 3",
   "language": "python",
   "name": "python3"
  },
  "language_info": {
   "codemirror_mode": {
    "name": "ipython",
    "version": 2
   },
   "file_extension": ".py",
   "mimetype": "text/x-python",
   "name": "python",
   "nbconvert_exporter": "python",
   "pygments_lexer": "ipython2",
   "version": "2.7.6"
  }
 },
 "nbformat": 4,
 "nbformat_minor": 5
}
