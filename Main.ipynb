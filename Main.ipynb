{
 "cells": [
  {
   "cell_type": "markdown",
   "source": [
    "Practical Work in AI - Concept Models\n",
    "Tragler Thomas\n",
    "====================\n"
   ],
   "metadata": {
    "collapsed": false
   },
   "id": "1227a7aeda095bcd"
  },
  {
   "cell_type": "code",
   "outputs": [
    {
     "name": "stdout",
     "output_type": "stream",
     "text": [
      "(1011, 20)\n"
     ]
    }
   ],
   "source": [
    "import pandas as pd\n",
    "import os\n",
    "import torch\n",
    "from torch.utils.data import random_split\n",
    "from torch.utils.data import DataLoader\n",
    "import numpy as np\n",
    "import matplotlib.pyplot as plt\n",
    "import wandb\n",
    "from datetime import datetime\n",
    "import torch.optim as optim\n",
    "from sklearn.model_selection import KFold\n",
    "\n",
    "import derm7pt_data\n",
    "from derm7pt_data import Derm7pt_data\n",
    "\n",
    "from importlib import reload\n",
    "\n",
    "\n",
    "reload(derm7pt_data)\n",
    "\n",
    "path = os.path.normpath('Data\\\\Derm7pt')\n",
    "\n",
    "derm7pt = Derm7pt_data(path)\n",
    "metadata = derm7pt.metadata\n",
    "print(metadata.shape)"
   ],
   "metadata": {
    "collapsed": false,
    "ExecuteTime": {
     "end_time": "2024-03-28T20:27:41.136547Z",
     "start_time": "2024-03-28T20:27:33.914059Z"
    }
   },
   "id": "fe5d31376103f7ce",
   "execution_count": 1
  },
  {
   "cell_type": "code",
   "outputs": [
    {
     "name": "stdout",
     "output_type": "stream",
     "text": [
      "device: cuda\n"
     ]
    }
   ],
   "source": [
    "#Data loading\n",
    "device = torch.device(\"cuda\" if torch.cuda.is_available() else \"cpu\")\n",
    "print(\"device:\", device)\n",
    "my_dataset = metadata\n",
    "\n",
    "#split data into training, validation and test sets\n",
    "train_size = int(0.8 * len(my_dataset))\n",
    "val_size = int(0.15 * len(my_dataset))\n",
    "test_size = len(my_dataset) - train_size - val_size\n",
    "#ToDo stratified sampling\n",
    "#overall weird spliting ToDo\n",
    "#train_split, val_split, test_split = random_split(my_dataset, [train_size, val_size, test_size])\n",
    "\n",
    "#train_data, train_concepts, train_label = derm7pt.data_split_by_index(train_split.indices)\n",
    "#val_data, val_concepts, val_label = derm7pt.data_split_by_index(val_split.indices)\n",
    "#test_data, test_concepts, test_label = derm7pt.data_split_by_index(test_split.indices)\n",
    "\n",
    "#Dataload \n",
    "#train_loader = DataLoader(derm7pt, batch_size=batch_size, shuffle=True)\n"
   ],
   "metadata": {
    "collapsed": false,
    "ExecuteTime": {
     "end_time": "2024-03-28T20:27:41.203336Z",
     "start_time": "2024-03-28T20:27:41.137542Z"
    }
   },
   "id": "86077796b8573934",
   "execution_count": 2
  },
  {
   "cell_type": "code",
   "outputs": [
    {
     "data": {
      "text/plain": "Index(['case_num', 'diagnosis', 'seven_point_score', 'pigment_network',\n       'streaks', 'pigmentation', 'regression_structures', 'dots_and_globules',\n       'blue_whitish_veil', 'vascular_structures',\n       'level_of_diagnostic_difficulty', 'elevation', 'location', 'sex',\n       'clinic', 'derm', 'nums', 'is_cancer', 'abbrevs', 'info'],\n      dtype='object')"
     },
     "execution_count": 3,
     "metadata": {},
     "output_type": "execute_result"
    }
   ],
   "source": [
    "my_dataset.columns"
   ],
   "metadata": {
    "collapsed": false,
    "ExecuteTime": {
     "end_time": "2024-03-28T20:27:41.213074Z",
     "start_time": "2024-03-28T20:27:41.204317Z"
    }
   },
   "id": "8655759d3cce7bf6",
   "execution_count": 3
  },
  {
   "cell_type": "code",
   "outputs": [],
   "source": [
    "#Torch CNN model with 3 Conv layers and 3 fully connected layers\n",
    "import torch.nn as nn\n",
    "\n",
    "class Net(nn.Module):\n",
    "    def __init__(self):\n",
    "        super(Net, self).__init__()\n",
    "        #conv Layers\n",
    "        in_channels, out_channels = (3, 16)\n",
    "        self.conv1 = nn.Conv2d(in_channels=in_channels, out_channels=out_channels, kernel_size=3, stride=1, padding=1)\n",
    "        in_channels, out_channels = (out_channels, 2*out_channels)\n",
    "        self.conv2 = nn.Conv2d(in_channels=in_channels, out_channels=out_channels, kernel_size=3, stride=1, padding=1)\n",
    "        # in_channels, out_channels = (out_channels, 2*out_channels)\n",
    "        # self.conv3 = nn.Conv2d(in_channels=in_channels, out_channels=out_channels, kernel_size=3, stride=1, padding=1)\n",
    "        \n",
    "        #Max pooling layers\n",
    "        self.pool = nn.MaxPool2d(kernel_size=4, stride=4, padding=0)\n",
    "        \n",
    "        self.channels_before_linear = out_channels\n",
    "        # Fully connected layers\n",
    "        self.fc1 = nn.Linear(self.channels_before_linear * 192 * 128, 128)  # Adjust the input size based on your image dimensions\n",
    "        self.fc2 = nn.Linear(128, 128)\n",
    "        self.fc3 = nn.Linear(128, 1)  # Output layer with one neuron for binary classification\n",
    "        \n",
    "        self.relu = nn.ReLU()\n",
    "        self.sigmoid = nn.Sigmoid()\n",
    "\n",
    "    def forward(self, x):\n",
    "        # Convolutional layers with activation and pooling\n",
    "        x = self.relu(self.conv1(x))\n",
    "        x = self.relu(self.conv2(x))\n",
    "        # x = self.relu(self.conv3(x))\n",
    "        \n",
    "        #Pooling layer\n",
    "        x = self.pool(x)\n",
    "\n",
    "        # Flatten the output for fully connected layers\n",
    "        x = x.view(-1, self.channels_before_linear * 192 * 128)  # Corrected input size based on spatial dimensions\n",
    "\n",
    "        # Fully connected layers with activation\n",
    "        x = self.relu(self.fc1(x))\n",
    "        # x = self.relu(self.fc2(x))\n",
    "        x = self.fc3(x)\n",
    "        x = x\n",
    "\n",
    "        return x\n",
    "    "
   ],
   "metadata": {
    "collapsed": false,
    "ExecuteTime": {
     "end_time": "2024-03-28T20:27:41.222046Z",
     "start_time": "2024-03-28T20:27:41.214067Z"
    }
   },
   "id": "305f0aca53622262",
   "execution_count": 4
  },
  {
   "cell_type": "code",
   "outputs": [],
   "source": [
    "def majority_class_baseline(true_labels):\n",
    "    # Find the most frequent class in the training set\n",
    "    elems, counts = true_labels.unique(return_counts=True)\n",
    "    majority_count = counts[counts.argmax()]\n",
    "    majority_class = elems[counts.argmax()]\n",
    "    #predictions = torch.full_like(true_labels, majority_class)\n",
    "    accuracy = majority_count / len(true_labels)\n",
    "    return majority_class, accuracy"
   ],
   "metadata": {
    "collapsed": false,
    "ExecuteTime": {
     "end_time": "2024-03-28T20:27:41.228459Z",
     "start_time": "2024-03-28T20:27:41.223043Z"
    }
   },
   "id": "122e0e211acc06f4",
   "execution_count": 5
  },
  {
   "cell_type": "code",
   "outputs": [
    {
     "data": {
      "text/plain": "<IPython.core.display.HTML object>",
      "text/html": "Finishing last run (ID:uq8kvcbn) before initializing another..."
     },
     "metadata": {},
     "output_type": "display_data"
    },
    {
     "data": {
      "text/plain": "VBox(children=(Label(value='0.001 MB of 0.017 MB uploaded\\r'), FloatProgress(value=0.07726244343891403, max=1.…",
      "application/vnd.jupyter.widget-view+json": {
       "version_major": 2,
       "version_minor": 0,
       "model_id": "30ed5fa78a89441ab73243310f787fb3"
      }
     },
     "metadata": {},
     "output_type": "display_data"
    },
    {
     "data": {
      "text/plain": "<IPython.core.display.HTML object>",
      "text/html": "<style>\n    table.wandb td:nth-child(1) { padding: 0 10px; text-align: left ; width: auto;} td:nth-child(2) {text-align: left ; width: 100%}\n    .wandb-row { display: flex; flex-direction: row; flex-wrap: wrap; justify-content: flex-start; width: 100% }\n    .wandb-col { display: flex; flex-direction: column; flex-basis: 100%; flex: 1; padding: 10px; }\n    </style>\n<div class=\"wandb-row\"><div class=\"wandb-col\"><h3>Run history:</h3><br/><table class=\"wandb\"><tr><td>loss</td><td>▁</td></tr><tr><td>validation_accuracy</td><td>▁</td></tr></table><br/></div><div class=\"wandb-col\"><h3>Run summary:</h3><br/><table class=\"wandb\"><tr><td>loss</td><td>2.7581</td></tr><tr><td>validation_accuracy</td><td>0.375</td></tr></table><br/></div></div>"
     },
     "metadata": {},
     "output_type": "display_data"
    },
    {
     "data": {
      "text/plain": "<IPython.core.display.HTML object>",
      "text/html": " View run <strong style=\"color:#cdcd00\">run2024-03-28 21:27:41.237434</strong> at: <a href='https://wandb.ai/nlp_ass3/PracticalWork/runs/uq8kvcbn' target=\"_blank\">https://wandb.ai/nlp_ass3/PracticalWork/runs/uq8kvcbn</a><br/> View job at <a href='https://wandb.ai/nlp_ass3/PracticalWork/jobs/QXJ0aWZhY3RDb2xsZWN0aW9uOjE1MDA4MzQ4NQ==/version_details/v7' target=\"_blank\">https://wandb.ai/nlp_ass3/PracticalWork/jobs/QXJ0aWZhY3RDb2xsZWN0aW9uOjE1MDA4MzQ4NQ==/version_details/v7</a><br/>Synced 5 W&B file(s), 0 media file(s), 0 artifact file(s) and 0 other file(s)"
     },
     "metadata": {},
     "output_type": "display_data"
    },
    {
     "data": {
      "text/plain": "<IPython.core.display.HTML object>",
      "text/html": "Find logs at: <code>.\\wandb\\run-20240328_212743-uq8kvcbn\\logs</code>"
     },
     "metadata": {},
     "output_type": "display_data"
    },
    {
     "data": {
      "text/plain": "<IPython.core.display.HTML object>",
      "text/html": "Successfully finished last run (ID:uq8kvcbn). Initializing new run:<br/>"
     },
     "metadata": {},
     "output_type": "display_data"
    },
    {
     "data": {
      "text/plain": "VBox(children=(Label(value='Waiting for wandb.init()...\\r'), FloatProgress(value=0.011111111111111112, max=1.0…",
      "application/vnd.jupyter.widget-view+json": {
       "version_major": 2,
       "version_minor": 0,
       "model_id": "8943c73b029648ce8f81a8b84bad265f"
      }
     },
     "metadata": {},
     "output_type": "display_data"
    },
    {
     "data": {
      "text/plain": "<IPython.core.display.HTML object>",
      "text/html": "wandb version 0.16.5 is available!  To upgrade, please run:\n $ pip install wandb --upgrade"
     },
     "metadata": {},
     "output_type": "display_data"
    },
    {
     "data": {
      "text/plain": "<IPython.core.display.HTML object>",
      "text/html": "Tracking run with wandb version 0.16.1"
     },
     "metadata": {},
     "output_type": "display_data"
    },
    {
     "data": {
      "text/plain": "<IPython.core.display.HTML object>",
      "text/html": "Run data is saved locally in <code>D:\\Business\\Uni\\Practical Work\\PW_ConceptModels\\wandb\\run-20240328_213451-jdl4rgxo</code>"
     },
     "metadata": {},
     "output_type": "display_data"
    },
    {
     "data": {
      "text/plain": "<IPython.core.display.HTML object>",
      "text/html": "Syncing run <strong><a href='https://wandb.ai/nlp_ass3/PracticalWork/runs/jdl4rgxo' target=\"_blank\">run2024-03-28 21:34:51.128578</a></strong> to <a href='https://wandb.ai/nlp_ass3/PracticalWork' target=\"_blank\">Weights & Biases</a> (<a href='https://wandb.me/run' target=\"_blank\">docs</a>)<br/>"
     },
     "metadata": {},
     "output_type": "display_data"
    },
    {
     "data": {
      "text/plain": "<IPython.core.display.HTML object>",
      "text/html": " View project at <a href='https://wandb.ai/nlp_ass3/PracticalWork' target=\"_blank\">https://wandb.ai/nlp_ass3/PracticalWork</a>"
     },
     "metadata": {},
     "output_type": "display_data"
    },
    {
     "data": {
      "text/plain": "<IPython.core.display.HTML object>",
      "text/html": " View run at <a href='https://wandb.ai/nlp_ass3/PracticalWork/runs/jdl4rgxo' target=\"_blank\">https://wandb.ai/nlp_ass3/PracticalWork/runs/jdl4rgxo</a>"
     },
     "metadata": {},
     "output_type": "display_data"
    },
    {
     "name": "stdout",
     "output_type": "stream",
     "text": [
      "2024-03-28 21:34:59.394725\n",
      "finished  2024-03-28 21:35:00.646575\n",
      "(tensor(0., device='cuda:0'), tensor(0.6406, device='cuda:0'))\n",
      "(tensor(0., device='cuda:0'), tensor(0.7344, device='cuda:0'))\n",
      "(tensor(0., device='cuda:0'), tensor(0.7500, device='cuda:0'))\n",
      "(tensor(0., device='cuda:0'), tensor(0.6719, device='cuda:0'))\n",
      "(tensor(0., device='cuda:0'), tensor(0.6562, device='cuda:0'))\n",
      "(tensor(0., device='cuda:0'), tensor(0.7344, device='cuda:0'))\n",
      "(tensor(0., device='cuda:0'), tensor(0.6250, device='cuda:0'))\n",
      "(tensor(0., device='cuda:0'), tensor(0.6562, device='cuda:0'))\n",
      "(tensor(0., device='cuda:0'), tensor(0.7500, device='cuda:0'))\n",
      "(tensor(0., device='cuda:0'), tensor(0.6875, device='cuda:0'))\n",
      "(tensor(0., device='cuda:0'), tensor(0.6875, device='cuda:0'))\n",
      "(tensor(0., device='cuda:0'), tensor(0.6875, device='cuda:0'))\n",
      "(tensor(0., device='cuda:0'), tensor(0.7969, device='cuda:0'))\n",
      "(tensor(0., device='cuda:0'), tensor(0.8077, device='cuda:0'))\n",
      "[1,     1] loss: 4.2932, val_accuracy: 0.6875, simple_baseline: 0.7402\n",
      "(tensor(0., device='cuda:0'), tensor(0.6875, device='cuda:0'))\n",
      "(tensor(0., device='cuda:0'), tensor(0.7031, device='cuda:0'))\n",
      "(tensor(0., device='cuda:0'), tensor(0.6719, device='cuda:0'))\n",
      "(tensor(0., device='cuda:0'), tensor(0.7812, device='cuda:0'))\n",
      "(tensor(0., device='cuda:0'), tensor(0.7656, device='cuda:0'))\n",
      "(tensor(0., device='cuda:0'), tensor(0.7812, device='cuda:0'))\n",
      "(tensor(0., device='cuda:0'), tensor(0.7188, device='cuda:0'))\n",
      "(tensor(0., device='cuda:0'), tensor(0.6719, device='cuda:0'))\n",
      "(tensor(0., device='cuda:0'), tensor(0.5781, device='cuda:0'))\n",
      "(tensor(0., device='cuda:0'), tensor(0.7969, device='cuda:0'))\n",
      "(tensor(0., device='cuda:0'), tensor(0.6406, device='cuda:0'))\n",
      "(tensor(0., device='cuda:0'), tensor(0.6562, device='cuda:0'))\n",
      "(tensor(0., device='cuda:0'), tensor(0.6562, device='cuda:0'))\n",
      "(tensor(0., device='cuda:0'), tensor(0.7692, device='cuda:0'))\n",
      "[2,     1] loss: 0.5569, val_accuracy: 0.7969, simple_baseline: 0.7402\n",
      "(tensor(0., device='cuda:0'), tensor(0.8125, device='cuda:0'))\n",
      "(tensor(0., device='cuda:0'), tensor(0.6250, device='cuda:0'))\n",
      "(tensor(0., device='cuda:0'), tensor(0.6406, device='cuda:0'))\n",
      "(tensor(0., device='cuda:0'), tensor(0.7188, device='cuda:0'))\n",
      "(tensor(0., device='cuda:0'), tensor(0.7031, device='cuda:0'))\n",
      "(tensor(0., device='cuda:0'), tensor(0.6562, device='cuda:0'))\n",
      "(tensor(0., device='cuda:0'), tensor(0.7031, device='cuda:0'))\n",
      "(tensor(0., device='cuda:0'), tensor(0.6406, device='cuda:0'))\n",
      "(tensor(0., device='cuda:0'), tensor(0.8281, device='cuda:0'))\n",
      "(tensor(0., device='cuda:0'), tensor(0.6406, device='cuda:0'))\n",
      "(tensor(0., device='cuda:0'), tensor(0.7812, device='cuda:0'))\n",
      "(tensor(0., device='cuda:0'), tensor(0.7344, device='cuda:0'))\n",
      "(tensor(0., device='cuda:0'), tensor(0.6719, device='cuda:0'))\n",
      "(tensor(0., device='cuda:0'), tensor(0.7115, device='cuda:0'))\n",
      "[3,     1] loss: 0.5286, val_accuracy: 0.8438, simple_baseline: 0.7402\n",
      "(tensor(0., device='cuda:0'), tensor(0.7031, device='cuda:0'))\n",
      "(tensor(0., device='cuda:0'), tensor(0.7344, device='cuda:0'))\n",
      "(tensor(0., device='cuda:0'), tensor(0.7188, device='cuda:0'))\n",
      "(tensor(0., device='cuda:0'), tensor(0.7188, device='cuda:0'))\n",
      "(tensor(0., device='cuda:0'), tensor(0.6875, device='cuda:0'))\n",
      "(tensor(0., device='cuda:0'), tensor(0.6094, device='cuda:0'))\n",
      "(tensor(0., device='cuda:0'), tensor(0.7812, device='cuda:0'))\n",
      "(tensor(0., device='cuda:0'), tensor(0.6562, device='cuda:0'))\n",
      "(tensor(0., device='cuda:0'), tensor(0.7656, device='cuda:0'))\n",
      "(tensor(0., device='cuda:0'), tensor(0.6719, device='cuda:0'))\n",
      "(tensor(0., device='cuda:0'), tensor(0.7500, device='cuda:0'))\n",
      "(tensor(0., device='cuda:0'), tensor(0.6562, device='cuda:0'))\n",
      "(tensor(0., device='cuda:0'), tensor(0.7031, device='cuda:0'))\n",
      "(tensor(0., device='cuda:0'), tensor(0.7115, device='cuda:0'))\n",
      "[4,     1] loss: 0.4967, val_accuracy: 0.8438, simple_baseline: 0.7402\n",
      "(tensor(0., device='cuda:0'), tensor(0.7188, device='cuda:0'))\n",
      "(tensor(0., device='cuda:0'), tensor(0.7188, device='cuda:0'))\n",
      "(tensor(0., device='cuda:0'), tensor(0.6875, device='cuda:0'))\n",
      "(tensor(0., device='cuda:0'), tensor(0.6875, device='cuda:0'))\n",
      "(tensor(0., device='cuda:0'), tensor(0.7344, device='cuda:0'))\n",
      "(tensor(0., device='cuda:0'), tensor(0.8281, device='cuda:0'))\n",
      "(tensor(0., device='cuda:0'), tensor(0.6094, device='cuda:0'))\n",
      "(tensor(0., device='cuda:0'), tensor(0.7656, device='cuda:0'))\n",
      "(tensor(0., device='cuda:0'), tensor(0.7344, device='cuda:0'))\n",
      "(tensor(0., device='cuda:0'), tensor(0.7031, device='cuda:0'))\n",
      "(tensor(0., device='cuda:0'), tensor(0.6875, device='cuda:0'))\n",
      "(tensor(0., device='cuda:0'), tensor(0.6875, device='cuda:0'))\n",
      "(tensor(0., device='cuda:0'), tensor(0.5938, device='cuda:0'))\n",
      "(tensor(0., device='cuda:0'), tensor(0.7115, device='cuda:0'))\n",
      "[5,     1] loss: 0.4545, val_accuracy: 0.7812, simple_baseline: 0.7402\n",
      "(tensor(0., device='cuda:0'), tensor(0.7031, device='cuda:0'))\n",
      "(tensor(0., device='cuda:0'), tensor(0.6875, device='cuda:0'))\n",
      "(tensor(0., device='cuda:0'), tensor(0.7344, device='cuda:0'))\n",
      "(tensor(0., device='cuda:0'), tensor(0.5938, device='cuda:0'))\n",
      "(tensor(0., device='cuda:0'), tensor(0.6719, device='cuda:0'))\n",
      "(tensor(0., device='cuda:0'), tensor(0.7188, device='cuda:0'))\n",
      "(tensor(0., device='cuda:0'), tensor(0.7344, device='cuda:0'))\n",
      "(tensor(0., device='cuda:0'), tensor(0.7031, device='cuda:0'))\n",
      "(tensor(0., device='cuda:0'), tensor(0.7031, device='cuda:0'))\n",
      "(tensor(0., device='cuda:0'), tensor(0.8125, device='cuda:0'))\n",
      "(tensor(0., device='cuda:0'), tensor(0.7188, device='cuda:0'))\n",
      "(tensor(0., device='cuda:0'), tensor(0.7031, device='cuda:0'))\n",
      "(tensor(0., device='cuda:0'), tensor(0.6875, device='cuda:0'))\n",
      "(tensor(0., device='cuda:0'), tensor(0.6923, device='cuda:0'))\n",
      "[6,     1] loss: 0.4252, val_accuracy: 0.7812, simple_baseline: 0.7402\n",
      "(tensor(0., device='cuda:0'), tensor(0.6719, device='cuda:0'))\n",
      "(tensor(0., device='cuda:0'), tensor(0.6562, device='cuda:0'))\n",
      "(tensor(0., device='cuda:0'), tensor(0.6250, device='cuda:0'))\n",
      "(tensor(0., device='cuda:0'), tensor(0.7812, device='cuda:0'))\n",
      "(tensor(0., device='cuda:0'), tensor(0.7031, device='cuda:0'))\n",
      "(tensor(0., device='cuda:0'), tensor(0.7188, device='cuda:0'))\n",
      "(tensor(0., device='cuda:0'), tensor(0.6719, device='cuda:0'))\n",
      "(tensor(0., device='cuda:0'), tensor(0.6875, device='cuda:0'))\n",
      "(tensor(0., device='cuda:0'), tensor(0.7969, device='cuda:0'))\n",
      "(tensor(0., device='cuda:0'), tensor(0.7500, device='cuda:0'))\n",
      "(tensor(0., device='cuda:0'), tensor(0.6875, device='cuda:0'))\n",
      "(tensor(0., device='cuda:0'), tensor(0.6719, device='cuda:0'))\n",
      "(tensor(0., device='cuda:0'), tensor(0.7188, device='cuda:0'))\n",
      "(tensor(0., device='cuda:0'), tensor(0.7308, device='cuda:0'))\n",
      "[7,     1] loss: 0.3841, val_accuracy: 0.8438, simple_baseline: 0.7402\n",
      "(tensor(0., device='cuda:0'), tensor(0.6875, device='cuda:0'))\n",
      "(tensor(0., device='cuda:0'), tensor(0.7031, device='cuda:0'))\n",
      "(tensor(0., device='cuda:0'), tensor(0.6406, device='cuda:0'))\n",
      "(tensor(0., device='cuda:0'), tensor(0.7188, device='cuda:0'))\n",
      "(tensor(0., device='cuda:0'), tensor(0.7031, device='cuda:0'))\n",
      "(tensor(0., device='cuda:0'), tensor(0.7656, device='cuda:0'))\n",
      "(tensor(0., device='cuda:0'), tensor(0.5938, device='cuda:0'))\n",
      "(tensor(0., device='cuda:0'), tensor(0.6406, device='cuda:0'))\n",
      "(tensor(0., device='cuda:0'), tensor(0.6719, device='cuda:0'))\n",
      "(tensor(0., device='cuda:0'), tensor(0.8125, device='cuda:0'))\n",
      "(tensor(0., device='cuda:0'), tensor(0.7031, device='cuda:0'))\n",
      "(tensor(0., device='cuda:0'), tensor(0.7812, device='cuda:0'))\n",
      "(tensor(0., device='cuda:0'), tensor(0.6875, device='cuda:0'))\n",
      "(tensor(0., device='cuda:0'), tensor(0.7692, device='cuda:0'))\n",
      "[8,     1] loss: 0.3564, val_accuracy: 0.8750, simple_baseline: 0.7402\n",
      "(tensor(0., device='cuda:0'), tensor(0.7031, device='cuda:0'))\n",
      "(tensor(0., device='cuda:0'), tensor(0.6719, device='cuda:0'))\n",
      "(tensor(0., device='cuda:0'), tensor(0.6562, device='cuda:0'))\n",
      "(tensor(0., device='cuda:0'), tensor(0.6562, device='cuda:0'))\n",
      "(tensor(0., device='cuda:0'), tensor(0.7031, device='cuda:0'))\n",
      "(tensor(0., device='cuda:0'), tensor(0.7344, device='cuda:0'))\n",
      "(tensor(0., device='cuda:0'), tensor(0.7500, device='cuda:0'))\n",
      "(tensor(0., device='cuda:0'), tensor(0.7656, device='cuda:0'))\n",
      "(tensor(0., device='cuda:0'), tensor(0.7500, device='cuda:0'))\n",
      "(tensor(0., device='cuda:0'), tensor(0.6719, device='cuda:0'))\n",
      "(tensor(0., device='cuda:0'), tensor(0.7656, device='cuda:0'))\n",
      "(tensor(0., device='cuda:0'), tensor(0.7031, device='cuda:0'))\n",
      "(tensor(0., device='cuda:0'), tensor(0.7500, device='cuda:0'))\n",
      "(tensor(0., device='cuda:0'), tensor(0.5577, device='cuda:0'))\n",
      "[9,     1] loss: 0.3425, val_accuracy: 0.7500, simple_baseline: 0.7402\n",
      "(tensor(0., device='cuda:0'), tensor(0.7188, device='cuda:0'))\n",
      "(tensor(0., device='cuda:0'), tensor(0.6875, device='cuda:0'))\n",
      "(tensor(0., device='cuda:0'), tensor(0.6562, device='cuda:0'))\n",
      "(tensor(0., device='cuda:0'), tensor(0.6875, device='cuda:0'))\n",
      "(tensor(0., device='cuda:0'), tensor(0.7656, device='cuda:0'))\n",
      "(tensor(0., device='cuda:0'), tensor(0.7031, device='cuda:0'))\n",
      "(tensor(0., device='cuda:0'), tensor(0.7344, device='cuda:0'))\n",
      "(tensor(0., device='cuda:0'), tensor(0.7344, device='cuda:0'))\n",
      "(tensor(0., device='cuda:0'), tensor(0.6719, device='cuda:0'))\n",
      "(tensor(0., device='cuda:0'), tensor(0.6250, device='cuda:0'))\n",
      "(tensor(0., device='cuda:0'), tensor(0.7031, device='cuda:0'))\n",
      "(tensor(0., device='cuda:0'), tensor(0.7188, device='cuda:0'))\n",
      "(tensor(0., device='cuda:0'), tensor(0.7344, device='cuda:0'))\n",
      "(tensor(0., device='cuda:0'), tensor(0.7308, device='cuda:0'))\n",
      "[10,     1] loss: 0.3119, val_accuracy: 0.7656, simple_baseline: 0.7402\n"
     ]
    },
    {
     "data": {
      "text/plain": "VBox(children=(Label(value='0.001 MB of 0.001 MB uploaded\\r'), FloatProgress(value=1.0, max=1.0)))",
      "application/vnd.jupyter.widget-view+json": {
       "version_major": 2,
       "version_minor": 0,
       "model_id": "1b9b58c3432440ac841626f8e5a64339"
      }
     },
     "metadata": {},
     "output_type": "display_data"
    },
    {
     "data": {
      "text/plain": "<IPython.core.display.HTML object>",
      "text/html": "<style>\n    table.wandb td:nth-child(1) { padding: 0 10px; text-align: left ; width: auto;} td:nth-child(2) {text-align: left ; width: 100%}\n    .wandb-row { display: flex; flex-direction: row; flex-wrap: wrap; justify-content: flex-start; width: 100% }\n    .wandb-col { display: flex; flex-direction: column; flex-basis: 100%; flex: 1; padding: 10px; }\n    </style>\n<div class=\"wandb-row\"><div class=\"wandb-col\"><h3>Run history:</h3><br/><table class=\"wandb\"><tr><td>loss</td><td>█▁▁▁▁▁▁▁▁▁</td></tr><tr><td>validation_accuracy</td><td>▁▅▇▇▅▅▇█▃▄</td></tr></table><br/></div><div class=\"wandb-col\"><h3>Run summary:</h3><br/><table class=\"wandb\"><tr><td>loss</td><td>0.31192</td></tr><tr><td>validation_accuracy</td><td>0.76562</td></tr></table><br/></div></div>"
     },
     "metadata": {},
     "output_type": "display_data"
    },
    {
     "data": {
      "text/plain": "<IPython.core.display.HTML object>",
      "text/html": " View run <strong style=\"color:#cdcd00\">run2024-03-28 21:34:51.128578</strong> at: <a href='https://wandb.ai/nlp_ass3/PracticalWork/runs/jdl4rgxo' target=\"_blank\">https://wandb.ai/nlp_ass3/PracticalWork/runs/jdl4rgxo</a><br/> View job at <a href='https://wandb.ai/nlp_ass3/PracticalWork/jobs/QXJ0aWZhY3RDb2xsZWN0aW9uOjE1MDA4MzQ4NQ==/version_details/v7' target=\"_blank\">https://wandb.ai/nlp_ass3/PracticalWork/jobs/QXJ0aWZhY3RDb2xsZWN0aW9uOjE1MDA4MzQ4NQ==/version_details/v7</a><br/>Synced 5 W&B file(s), 0 media file(s), 0 artifact file(s) and 0 other file(s)"
     },
     "metadata": {},
     "output_type": "display_data"
    },
    {
     "data": {
      "text/plain": "<IPython.core.display.HTML object>",
      "text/html": "Find logs at: <code>.\\wandb\\run-20240328_213451-jdl4rgxo\\logs</code>"
     },
     "metadata": {},
     "output_type": "display_data"
    },
    {
     "name": "stdout",
     "output_type": "stream",
     "text": [
      "Finished Training\n"
     ]
    }
   ],
   "source": [
    "#Training the model\n",
    "\n",
    "# hyperparameters\n",
    "n_epochs = 10\n",
    "learning_rate = 0.001\n",
    "n_folds = 8\n",
    "batch_size = 64\n",
    "\n",
    "criterion = nn.BCEWithLogitsLoss()\n",
    "\n",
    "wandb.init(\n",
    "    # set the wandb project where this run will be logged\n",
    "    project= \"PracticalWork\",\n",
    "    \n",
    "    # track hyperparameters and run metadata\n",
    "    config={\n",
    "    \"learning_rate\": learning_rate,\n",
    "    \"architecture\": \"SimpleCNN\",\n",
    "    \"dataset\": \"derm7pt\",\n",
    "    \"labels\": derm7pt.model_columns[\"label\"],\n",
    "    \"epochs\": n_epochs,\n",
    "    \"batch_size\": batch_size,\n",
    "    \"n_folds\": n_folds,\n",
    "    \"device\": device\n",
    "    },\n",
    "    name=\"run\"+str(datetime.now())\n",
    ")\n",
    "\n",
    "\n",
    "#Todo\n",
    "simple_val_baseline = 0.5\n",
    "\n",
    "# Training loop\n",
    "kf = KFold(n_splits=n_folds, shuffle=True)\n",
    "for fold, (train_idx, val_idx) in enumerate(kf.split(derm7pt.metadata)):\n",
    "    #start of time measurement\n",
    "    #Todo Hackfix to get the majority class of the validation set\n",
    "    print(datetime.now())\n",
    "    if True:\n",
    "        val_loader = DataLoader(\n",
    "            dataset=derm7pt,\n",
    "            batch_size=999999,\n",
    "            sampler=torch.utils.data.SubsetRandomSampler(val_idx),\n",
    "        )\n",
    "        for i, batch in enumerate(val_loader, 0):\n",
    "            inputs, labels = batch\n",
    "            _, simple_val_baseline = majority_class_baseline(labels)\n",
    "    print(\"finished \", datetime.now())\n",
    "    train_loader = DataLoader(\n",
    "        dataset=derm7pt,\n",
    "        batch_size=batch_size,\n",
    "        sampler=torch.utils.data.SubsetRandomSampler(train_idx),\n",
    "    )\n",
    "    val_loader = DataLoader(\n",
    "        dataset=derm7pt,\n",
    "        batch_size=batch_size,\n",
    "        sampler=torch.utils.data.SubsetRandomSampler(val_idx),\n",
    "    )\n",
    "    \n",
    "    # Instantiate the model\n",
    "    model = Net()\n",
    "    model.to(device)\n",
    "    optimizer = optim.Adam(model.parameters(), lr=learning_rate)\n",
    "    \n",
    "    \n",
    "    for epoch in range(n_epochs):\n",
    "        running_loss = 0.0\n",
    "        i = 0\n",
    "        for i, batch in enumerate(train_loader, 0):\n",
    "            inputs, labels = batch\n",
    "            inputs, labels = inputs.to(device), labels.to(device)\n",
    "    \n",
    "            # Zero the parameter gradients\n",
    "            optimizer.zero_grad()\n",
    "    \n",
    "            # Forward pass, backward pass, and optimization\n",
    "            outputs = model(inputs)\n",
    "            loss = criterion(outputs, labels)\n",
    "            loss.backward()\n",
    "            optimizer.step()\n",
    "    \n",
    "            # Print statistics\n",
    "            running_loss += loss.item()\n",
    "            # if i % 10 == 9:    # Print every 10 mini-batches\n",
    "            #     print('[%d, %5d] loss: %.3f' %\n",
    "            #           (epoch + 1, i + 1, running_loss / 10))\n",
    "            #     running_loss = 0.0\n",
    "            \n",
    "        running_loss /= (i+1)        \n",
    "        \n",
    "        model.eval()\n",
    "        correct = 0\n",
    "        total = 0\n",
    "        with torch.no_grad():\n",
    "            for i, batch in enumerate(val_loader, 0):\n",
    "                images, labels = batch\n",
    "                images, labels = images.to(device), labels.to(device)\n",
    "                output = model(images)\n",
    "                output = torch.sigmoid(output) > 0.5\n",
    "                total += labels.size(0)\n",
    "                correct += (output == labels).sum().item()\n",
    "                #print(\"outputs: \", output, total, correct)\n",
    "                break\n",
    "                \n",
    "        \n",
    "        val_accuracy = correct/total\n",
    "        wandb.log({\"loss\": running_loss, \"validation_accuracy\": val_accuracy})\n",
    "        print('[%d, %5d] loss: %.4f, val_accuracy: %.4f, simple_baseline: %.4f' % (epoch + 1, i + 1, running_loss, val_accuracy, simple_val_baseline))   \n",
    "        \n",
    "        \n",
    "        #ToDo early stopping\n",
    "        if running_loss < 0.1:\n",
    "            print(\"Early stopping!\")\n",
    "            break\n",
    "    \n",
    "    #ToDo only one fold for now\n",
    "    break\n",
    "wandb.finish()\n",
    "print('Finished Training')"
   ],
   "metadata": {
    "collapsed": false,
    "ExecuteTime": {
     "end_time": "2024-03-28T20:55:35.623823Z",
     "start_time": "2024-03-28T20:34:51.117607Z"
    }
   },
   "id": "dbd65506a0b0acbd",
   "execution_count": 7
  },
  {
   "cell_type": "code",
   "outputs": [],
   "source": [],
   "metadata": {
    "collapsed": false
   },
   "id": "f90df522a2360f21"
  }
 ],
 "metadata": {
  "kernelspec": {
   "display_name": "Python 3",
   "language": "python",
   "name": "python3"
  },
  "language_info": {
   "codemirror_mode": {
    "name": "ipython",
    "version": 2
   },
   "file_extension": ".py",
   "mimetype": "text/x-python",
   "name": "python",
   "nbconvert_exporter": "python",
   "pygments_lexer": "ipython2",
   "version": "2.7.6"
  }
 },
 "nbformat": 4,
 "nbformat_minor": 5
}
