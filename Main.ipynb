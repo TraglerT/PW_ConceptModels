{
 "cells": [
  {
   "cell_type": "markdown",
   "source": [
    "Practical Work in AI - Concept Bootleneck Models<br>\n",
    "Tragler Thomas <br>\n",
    "====================<br>\n"
   ],
   "metadata": {
    "collapsed": false
   },
   "id": "1227a7aeda095bcd"
  },
  {
   "cell_type": "code",
   "source": [
    "import os\n",
    "import torch\n",
    "import torch.nn as nn\n",
    "from torch.utils.data import DataLoader\n",
    "import matplotlib.pyplot as plt\n",
    "import wandb\n",
    "from datetime import datetime\n",
    "import torch.optim as optim\n",
    "from sklearn.model_selection import KFold\n",
    "\n",
    "import derm7pt_data\n",
    "from derm7pt_data import Derm7pt_data\n",
    "import Model\n",
    "from Model import Simple_CNN_Net\n",
    "\n",
    "from importlib import reload"
   ],
   "metadata": {
    "collapsed": false,
    "ExecuteTime": {
     "end_time": "2024-05-05T15:13:29.491198Z",
     "start_time": "2024-05-05T15:13:25.016616Z"
    }
   },
   "id": "fe5d31376103f7ce",
   "outputs": [],
   "execution_count": 1
  },
  {
   "cell_type": "code",
   "source": [
    "reload(derm7pt_data)\n",
    "#reload(Model)\n",
    "\n",
    "#Data loading\n",
    "random_state = 42\n",
    "torch.manual_seed(random_state)\n",
    "path = os.path.normpath('Data\\\\Derm7pt')\n",
    "\n",
    "derm7pt = Derm7pt_data(path)\n",
    "metadata = derm7pt.metadata\n",
    "print(\"Data shape:\", metadata.shape)\n",
    "device = torch.device(\"cuda\" if torch.cuda.is_available() else \"cpu\")\n",
    "\n",
    "print(\"device:\", device)"
   ],
   "metadata": {
    "collapsed": false,
    "ExecuteTime": {
     "end_time": "2024-05-05T15:13:29.548330Z",
     "start_time": "2024-05-05T15:13:29.492196Z"
    }
   },
   "id": "86077796b8573934",
   "outputs": [
    {
     "name": "stdout",
     "output_type": "stream",
     "text": [
      "Data shape: (1011, 34)\n",
      "device: cuda\n"
     ]
    }
   ],
   "execution_count": 2
  },
  {
   "cell_type": "code",
   "source": [
    "metadata.columns"
   ],
   "metadata": {
    "collapsed": false,
    "ExecuteTime": {
     "end_time": "2024-05-05T15:13:29.555757Z",
     "start_time": "2024-05-05T15:13:29.549325Z"
    }
   },
   "id": "8655759d3cce7bf6",
   "outputs": [
    {
     "data": {
      "text/plain": [
       "Index(['case_num', 'diagnosis', 'seven_point_score', 'pigment_network',\n",
       "       'streaks', 'pigmentation', 'regression_structures', 'dots_and_globules',\n",
       "       'blue_whitish_veil', 'vascular_structures',\n",
       "       'level_of_diagnostic_difficulty', 'elevation', 'location', 'sex',\n",
       "       'clinic', 'derm', 'diagnosis_num', 'is_cancer', 'abbrevs', 'info',\n",
       "       'pigment_network_num', 'pigment_network_score', 'streaks_num',\n",
       "       'streaks_score', 'pigmentation_num', 'pigmentation_score',\n",
       "       'regression_structures_num', 'regression_structures_score',\n",
       "       'dots_and_globules_num', 'dots_and_globules_score',\n",
       "       'blue_whitish_veil_num', 'blue_whitish_veil_score',\n",
       "       'vascular_structures_num', 'vascular_structures_score'],\n",
       "      dtype='object')"
      ]
     },
     "execution_count": 3,
     "metadata": {},
     "output_type": "execute_result"
    }
   ],
   "execution_count": 3
  },
  {
   "metadata": {},
   "cell_type": "markdown",
   "source": "",
   "id": "82849bae9f8c9019"
  },
  {
   "cell_type": "code",
   "source": [
    "#Help functions to calculate the majority class baseline    \n",
    "def majority_class_baseline(val_idx, mode_txt=\"\"):\n",
    "    print(\"start \", mode_txt, \" baseline: \", datetime.now())\n",
    "    majority_loader = DataLoader(\n",
    "        dataset=derm7pt,\n",
    "        batch_size=999999,\n",
    "        sampler=torch.utils.data.SubsetRandomSampler(val_idx),\n",
    "    )\n",
    "    for i, batch in enumerate(majority_loader, 0):\n",
    "        inputs, labels, concept_labels = batch\n",
    "        baseline, simple_val_baseline = majority_class_accuracy_by_labels(labels)\n",
    "        \n",
    "        #concept baseline\n",
    "        concept_baseline = 0\n",
    "        concept_outputs = torch.zeros(len(labels), num_concepts)\n",
    "        concept_val_baseline = ((concept_outputs == concept_labels).sum().item()) / (len(labels)*num_concepts)\n",
    "        \n",
    "        print(\"end \", mode_txt, \" baseline:   \", datetime.now(), \", baseline: \", baseline, \" percent \",  simple_val_baseline, \" concept_baseline: \", concept_baseline, \" concept_val_baseline: \", concept_val_baseline)\n",
    "        return simple_val_baseline, concept_val_baseline\n",
    "    \n",
    "def majority_class_accuracy_by_labels(true_labels):\n",
    "    # Find the most frequent class in the training set\n",
    "    elems, counts = true_labels.unique(return_counts=True)\n",
    "    majority_count = counts[counts.argmax()]\n",
    "    majority_class = elems[counts.argmax()]\n",
    "    #predictions = torch.full_like(true_labels, majority_class)\n",
    "    accuracy = majority_count / len(true_labels)\n",
    "    return majority_class, accuracy"
   ],
   "metadata": {
    "collapsed": false,
    "ExecuteTime": {
     "end_time": "2024-05-05T15:13:29.562765Z",
     "start_time": "2024-05-05T15:13:29.556750Z"
    }
   },
   "id": "305f0aca53622262",
   "outputs": [],
   "execution_count": 4
  },
  {
   "metadata": {},
   "cell_type": "markdown",
   "source": "",
   "id": "2ac5620bbd32f5cc"
  },
  {
   "cell_type": "code",
   "source": [
    "#Training the model\n",
    "# hyperparameters\n",
    "n_epochs = 50\n",
    "learning_rate = 0.0001\n",
    "n_folds = 8\n",
    "batch_size = 8\n",
    "learn_concepts = True   #Defines if loss should be calculated for concepts\n",
    "\n",
    "num_classes = derm7pt.diagnosis_mapping[derm7pt.model_columns[\"label\"]].nunique()\n",
    "num_concepts = len(derm7pt.concepts_mapping)\n",
    "criterion_concept = nn.BCELoss()\n",
    "criterion = nn.CrossEntropyLoss() #Categorical crossEntropyLoss\n",
    "\n",
    "#split up init form main training loop, because of faulty display of print statements during training\n",
    "wandb.init(\n",
    "    # set the wandb project where this run will be logged\n",
    "    project= \"PracticalWork\",\n",
    "\n",
    "    # track hyperparameters and run metadata\n",
    "    config={\n",
    "    \"learning_rate\": learning_rate,\n",
    "    \"architecture\": \"SimpleCNN\",\n",
    "    \"dataset\": \"derm7pt\",\n",
    "    \"labels\": derm7pt.model_columns[\"label\"],\n",
    "    \"epochs\": n_epochs,\n",
    "    \"batch_size\": batch_size,\n",
    "    \"n_folds\": n_folds,\n",
    "    \"device\": device,\n",
    "    \"num_classes\": num_classes,\n",
    "    \"num_concepts\": num_concepts,\n",
    "    \"learn_concepts\": learn_concepts,\n",
    "    \"random_state\": random_state,\n",
    "    },\n",
    "    name=\"run\"+str(datetime.now())\n",
    ")"
   ],
   "metadata": {
    "collapsed": false,
    "ExecuteTime": {
     "end_time": "2024-05-05T15:13:33.402624Z",
     "start_time": "2024-05-05T15:13:29.565744Z"
    }
   },
   "id": "dbd65506a0b0acbd",
   "outputs": [
    {
     "name": "stderr",
     "output_type": "stream",
     "text": [
      "\u001B[34m\u001B[1mwandb\u001B[0m: Currently logged in as: \u001B[33mtraglert\u001B[0m (\u001B[33mnlp_ass3\u001B[0m). Use \u001B[1m`wandb login --relogin`\u001B[0m to force relogin\n"
     ]
    },
    {
     "data": {
      "text/plain": [
       "<IPython.core.display.HTML object>"
      ],
      "text/html": [
       "Tracking run with wandb version 0.16.6"
      ]
     },
     "metadata": {},
     "output_type": "display_data"
    },
    {
     "data": {
      "text/plain": [
       "<IPython.core.display.HTML object>"
      ],
      "text/html": [
       "Run data is saved locally in <code>D:\\Business\\Uni\\Practical Work\\PW_ConceptModels\\wandb\\run-20240505_171331-2gqvgu3v</code>"
      ]
     },
     "metadata": {},
     "output_type": "display_data"
    },
    {
     "data": {
      "text/plain": [
       "<IPython.core.display.HTML object>"
      ],
      "text/html": [
       "Syncing run <strong><a href='https://wandb.ai/nlp_ass3/PracticalWork/runs/2gqvgu3v' target=\"_blank\">run2024-05-05 17:13:29.569731</a></strong> to <a href='https://wandb.ai/nlp_ass3/PracticalWork' target=\"_blank\">Weights & Biases</a> (<a href='https://wandb.me/run' target=\"_blank\">docs</a>)<br/>"
      ]
     },
     "metadata": {},
     "output_type": "display_data"
    },
    {
     "data": {
      "text/plain": [
       "<IPython.core.display.HTML object>"
      ],
      "text/html": [
       " View project at <a href='https://wandb.ai/nlp_ass3/PracticalWork' target=\"_blank\">https://wandb.ai/nlp_ass3/PracticalWork</a>"
      ]
     },
     "metadata": {},
     "output_type": "display_data"
    },
    {
     "data": {
      "text/plain": [
       "<IPython.core.display.HTML object>"
      ],
      "text/html": [
       " View run at <a href='https://wandb.ai/nlp_ass3/PracticalWork/runs/2gqvgu3v' target=\"_blank\">https://wandb.ai/nlp_ass3/PracticalWork/runs/2gqvgu3v</a>"
      ]
     },
     "metadata": {},
     "output_type": "display_data"
    },
    {
     "data": {
      "text/html": [
       "<button onClick=\"this.nextSibling.style.display='block';this.style.display='none';\">Display W&B run</button><iframe src='https://wandb.ai/nlp_ass3/PracticalWork/runs/2gqvgu3v?jupyter=true' style='border:none;width:100%;height:420px;display:none;'></iframe>"
      ],
      "text/plain": [
       "<wandb.sdk.wandb_run.Run at 0x1747b3ceb90>"
      ]
     },
     "execution_count": 5,
     "metadata": {},
     "output_type": "execute_result"
    }
   ],
   "execution_count": 5
  },
  {
   "metadata": {
    "ExecuteTime": {
     "end_time": "2024-05-05T15:26:33.881499Z",
     "start_time": "2024-05-05T15:13:33.403618Z"
    }
   },
   "cell_type": "code",
   "source": [
    "''# Training loop\n",
    "kf = KFold(n_splits=n_folds, shuffle=True, random_state=random_state)\n",
    "for fold, (train_idx, val_idx) in enumerate(kf.split(derm7pt.metadata)):\n",
    "    #get the majority class of the validation set\n",
    "    simple_val_baseline, concept_val_baseline = majority_class_baseline(val_idx, \"validation\")      \n",
    "    \n",
    "    train_loader = DataLoader(\n",
    "        dataset=derm7pt,\n",
    "        batch_size=batch_size,\n",
    "        sampler=torch.utils.data.SubsetRandomSampler(train_idx),\n",
    "    )\n",
    "    val_loader = DataLoader(\n",
    "        dataset=derm7pt,\n",
    "        batch_size=batch_size,\n",
    "        sampler=torch.utils.data.SubsetRandomSampler(val_idx),\n",
    "    )\n",
    "    \n",
    "    # Instantiate the model\n",
    "    model = Simple_CNN_Net(num_classes=num_classes,num_concepts=num_concepts, image_size=derm7pt.image_size)\n",
    "    model.to(device)\n",
    "    optimizer = optim.Adam(model.parameters(), lr=learning_rate)\n",
    "    \n",
    "    for epoch in range(n_epochs):\n",
    "        running_loss = 0.0\n",
    "        running_loss_concepts = 0.0\n",
    "        i = 0\n",
    "        train_total_correct = 0\n",
    "        train_concepts_total_correct = 0\n",
    "        model.train()\n",
    "        for i, batch in enumerate(train_loader, 0):\n",
    "            inputs, labels, concept_labels = batch\n",
    "            #one hot encoding of the label\n",
    "            hot_labels = torch.eye(num_classes)[labels.squeeze().int()]\n",
    "            inputs, hot_labels, concept_labels = inputs.to(device), hot_labels.to(device), concept_labels.to(device)\n",
    "    \n",
    "            # Zero the parameter gradients\n",
    "            optimizer.zero_grad()\n",
    "            # forward pass for both concepts and outputs\n",
    "            concept_outputs, outputs = model(inputs)\n",
    "            if learn_concepts:\n",
    "                loss_concepts = criterion_concept(concept_outputs, concept_labels)\n",
    "                loss_concepts.backward(retain_graph=True)\n",
    "                # statistics: average loss\n",
    "                running_loss_concepts += loss_concepts.item()\n",
    "                \n",
    "                # concept accuracy\n",
    "                train_concepts_total_correct += (concept_outputs.round() == concept_labels).sum().item()\n",
    "            loss_outputs = criterion(outputs, hot_labels)\n",
    "            loss_outputs.backward()\n",
    "            optimizer.step()\n",
    "            # statistics: average loss\n",
    "            running_loss += loss_outputs.item()\n",
    "            \n",
    "            # train accuracy\n",
    "            _, predicted = torch.max(outputs, 1)\n",
    "            train_total_correct += (predicted == hot_labels.argmax(dim=1)).sum().item()\n",
    "            #if i%80 == 0:\n",
    "                #print(\"i \", i, predicted, \"\\n\", labels, \"\\n\", outputs)\n",
    "            \n",
    "            \n",
    "        running_loss /= (i+1)    \n",
    "        running_loss_concepts /= (i+1)\n",
    "        train_accuracy = train_total_correct / len(train_idx)\n",
    "        concept_train_accuracy = train_concepts_total_correct / (len(train_idx)*num_concepts)\n",
    "        \n",
    "        \n",
    "        # Validation\n",
    "        model.eval()\n",
    "        correct = 0\n",
    "        concept_correct = 0\n",
    "        total = 0\n",
    "        with torch.no_grad():\n",
    "            for i, batch in enumerate(val_loader, 0):\n",
    "                inputs, labels, concept_labels = batch\n",
    "                inputs, labels, concept_labels = inputs.to(device), labels.to(device), concept_labels.to(device)\n",
    "                concept_outputs, outputs = model(inputs)\n",
    "                outputs = outputs.argmax(dim=1)\n",
    "                total = labels.size(0)\n",
    "                correct = (outputs == labels).sum().item()\n",
    "                concept_correct = (concept_outputs.round() == concept_labels).sum().item()\n",
    "                \n",
    "        val_accuracy = correct/total\n",
    "        concept_val_accuracy = concept_correct/(total*num_concepts)\n",
    "        wandb.log({\"loss\": running_loss, \"train_accuracy\": train_accuracy, \"concept_loss:\": running_loss_concepts, \"train_concept_accuracy\": concept_train_accuracy, \"validation_accuracy\": val_accuracy, \"concept_val_accuracy\": concept_val_accuracy})\n",
    "        print('[%d, %3d] loss: %.4f, val_accuracy: %.4f, simple_baseline: %.4f, concept_0_baseline: %.4f' % (epoch + 1, i + 1, running_loss, val_accuracy, simple_val_baseline, concept_val_baseline))   \n",
    "        \n",
    "    #ToDo only one fold for now\n",
    "    break\n",
    "\n",
    "wandb.finish()\n",
    "print('Finished Training')"
   ],
   "id": "fec73a5a86d148e4",
   "outputs": [
    {
     "name": "stdout",
     "output_type": "stream",
     "text": [
      "start  validation  baseline:  2024-05-05 17:13:33.415584\n",
      "end  validation  baseline:    2024-05-05 17:13:34.597423 , baseline:  tensor(1)  percent  tensor(0.5984)  concept_baseline:  0  concept_val_baseline:  0.7716535433070866\n",
      "[1,    16] loss: 1.6252, val_accuracy: 0.0000, simple_baseline: 0.5984, concept_0_baseline: 0.7717\n",
      "[2,    16] loss: 1.6227, val_accuracy: 0.0000, simple_baseline: 0.5984, concept_0_baseline: 0.7717\n",
      "[3,    16] loss: 1.6173, val_accuracy: 0.0000, simple_baseline: 0.5984, concept_0_baseline: 0.7717\n",
      "[4,    16] loss: 1.6122, val_accuracy: 0.1429, simple_baseline: 0.5984, concept_0_baseline: 0.7717\n",
      "[5,    16] loss: 1.6073, val_accuracy: 0.0000, simple_baseline: 0.5984, concept_0_baseline: 0.7717\n",
      "[6,    16] loss: 1.6016, val_accuracy: 0.0000, simple_baseline: 0.5984, concept_0_baseline: 0.7717\n",
      "[7,    16] loss: 1.5976, val_accuracy: 0.4286, simple_baseline: 0.5984, concept_0_baseline: 0.7717\n",
      "[8,    16] loss: 1.5934, val_accuracy: 0.2857, simple_baseline: 0.5984, concept_0_baseline: 0.7717\n",
      "[9,    16] loss: 1.5878, val_accuracy: 0.2857, simple_baseline: 0.5984, concept_0_baseline: 0.7717\n",
      "[10,    16] loss: 1.5829, val_accuracy: 0.4286, simple_baseline: 0.5984, concept_0_baseline: 0.7717\n",
      "[11,    16] loss: 1.5792, val_accuracy: 0.4286, simple_baseline: 0.5984, concept_0_baseline: 0.7717\n",
      "[12,    16] loss: 1.5732, val_accuracy: 0.2857, simple_baseline: 0.5984, concept_0_baseline: 0.7717\n",
      "[13,    16] loss: 1.5689, val_accuracy: 0.2857, simple_baseline: 0.5984, concept_0_baseline: 0.7717\n",
      "[14,    16] loss: 1.5623, val_accuracy: 0.1429, simple_baseline: 0.5984, concept_0_baseline: 0.7717\n",
      "[15,    16] loss: 1.5586, val_accuracy: 0.2857, simple_baseline: 0.5984, concept_0_baseline: 0.7717\n",
      "[16,    16] loss: 1.5524, val_accuracy: 0.1429, simple_baseline: 0.5984, concept_0_baseline: 0.7717\n",
      "[17,    16] loss: 1.5478, val_accuracy: 0.7143, simple_baseline: 0.5984, concept_0_baseline: 0.7717\n",
      "[18,    16] loss: 1.5436, val_accuracy: 0.5714, simple_baseline: 0.5984, concept_0_baseline: 0.7717\n",
      "[19,    16] loss: 1.5380, val_accuracy: 0.4286, simple_baseline: 0.5984, concept_0_baseline: 0.7717\n",
      "[20,    16] loss: 1.5333, val_accuracy: 0.7143, simple_baseline: 0.5984, concept_0_baseline: 0.7717\n",
      "[21,    16] loss: 1.5285, val_accuracy: 0.5714, simple_baseline: 0.5984, concept_0_baseline: 0.7717\n",
      "[22,    16] loss: 1.5251, val_accuracy: 0.2857, simple_baseline: 0.5984, concept_0_baseline: 0.7717\n",
      "[23,    16] loss: 1.5210, val_accuracy: 0.7143, simple_baseline: 0.5984, concept_0_baseline: 0.7717\n",
      "[24,    16] loss: 1.5165, val_accuracy: 0.4286, simple_baseline: 0.5984, concept_0_baseline: 0.7717\n",
      "[25,    16] loss: 1.5158, val_accuracy: 0.4286, simple_baseline: 0.5984, concept_0_baseline: 0.7717\n",
      "[26,    16] loss: 1.5103, val_accuracy: 0.5714, simple_baseline: 0.5984, concept_0_baseline: 0.7717\n",
      "[27,    16] loss: 1.5080, val_accuracy: 0.5714, simple_baseline: 0.5984, concept_0_baseline: 0.7717\n",
      "[28,    16] loss: 1.5065, val_accuracy: 0.7143, simple_baseline: 0.5984, concept_0_baseline: 0.7717\n",
      "[29,    16] loss: 1.5020, val_accuracy: 0.5714, simple_baseline: 0.5984, concept_0_baseline: 0.7717\n",
      "[30,    16] loss: 1.5009, val_accuracy: 0.5714, simple_baseline: 0.5984, concept_0_baseline: 0.7717\n",
      "[31,    16] loss: 1.4998, val_accuracy: 0.4286, simple_baseline: 0.5984, concept_0_baseline: 0.7717\n",
      "[32,    16] loss: 1.4955, val_accuracy: 0.2857, simple_baseline: 0.5984, concept_0_baseline: 0.7717\n",
      "[33,    16] loss: 1.4962, val_accuracy: 0.2857, simple_baseline: 0.5984, concept_0_baseline: 0.7717\n",
      "[34,    16] loss: 1.4930, val_accuracy: 0.5714, simple_baseline: 0.5984, concept_0_baseline: 0.7717\n",
      "[35,    16] loss: 1.4904, val_accuracy: 0.5714, simple_baseline: 0.5984, concept_0_baseline: 0.7717\n",
      "[36,    16] loss: 1.4901, val_accuracy: 0.5714, simple_baseline: 0.5984, concept_0_baseline: 0.7717\n",
      "[37,    16] loss: 1.4904, val_accuracy: 0.4286, simple_baseline: 0.5984, concept_0_baseline: 0.7717\n",
      "[38,    16] loss: 1.4869, val_accuracy: 0.4286, simple_baseline: 0.5984, concept_0_baseline: 0.7717\n",
      "[39,    16] loss: 1.4867, val_accuracy: 0.8571, simple_baseline: 0.5984, concept_0_baseline: 0.7717\n",
      "[40,    16] loss: 1.4846, val_accuracy: 0.5714, simple_baseline: 0.5984, concept_0_baseline: 0.7717\n",
      "[41,    16] loss: 1.4873, val_accuracy: 0.4286, simple_baseline: 0.5984, concept_0_baseline: 0.7717\n",
      "[42,    16] loss: 1.4834, val_accuracy: 0.5714, simple_baseline: 0.5984, concept_0_baseline: 0.7717\n",
      "[43,    16] loss: 1.4836, val_accuracy: 0.7143, simple_baseline: 0.5984, concept_0_baseline: 0.7717\n",
      "[44,    16] loss: 1.4812, val_accuracy: 0.4286, simple_baseline: 0.5984, concept_0_baseline: 0.7717\n",
      "[45,    16] loss: 1.4835, val_accuracy: 0.7143, simple_baseline: 0.5984, concept_0_baseline: 0.7717\n",
      "[46,    16] loss: 1.4810, val_accuracy: 0.5714, simple_baseline: 0.5984, concept_0_baseline: 0.7717\n",
      "[47,    16] loss: 1.4811, val_accuracy: 0.5714, simple_baseline: 0.5984, concept_0_baseline: 0.7717\n",
      "[48,    16] loss: 1.4814, val_accuracy: 0.7143, simple_baseline: 0.5984, concept_0_baseline: 0.7717\n",
      "[49,    16] loss: 1.4799, val_accuracy: 0.5714, simple_baseline: 0.5984, concept_0_baseline: 0.7717\n",
      "[50,    16] loss: 1.4796, val_accuracy: 0.7143, simple_baseline: 0.5984, concept_0_baseline: 0.7717\n"
     ]
    },
    {
     "data": {
      "text/plain": [
       "VBox(children=(Label(value='0.001 MB of 0.001 MB uploaded\\r'), FloatProgress(value=1.0, max=1.0)))"
      ],
      "application/vnd.jupyter.widget-view+json": {
       "version_major": 2,
       "version_minor": 0,
       "model_id": "e3a55bcde1e64c3ba4b7bf9379b9aea1"
      }
     },
     "metadata": {},
     "output_type": "display_data"
    },
    {
     "data": {
      "text/plain": [
       "<IPython.core.display.HTML object>"
      ],
      "text/html": [
       "<style>\n",
       "    table.wandb td:nth-child(1) { padding: 0 10px; text-align: left ; width: auto;} td:nth-child(2) {text-align: left ; width: 100%}\n",
       "    .wandb-row { display: flex; flex-direction: row; flex-wrap: wrap; justify-content: flex-start; width: 100% }\n",
       "    .wandb-col { display: flex; flex-direction: column; flex-basis: 100%; flex: 1; padding: 10px; }\n",
       "    </style>\n",
       "<div class=\"wandb-row\"><div class=\"wandb-col\"><h3>Run history:</h3><br/><table class=\"wandb\"><tr><td>concept_loss:</td><td>██▇▇▇▇▇▇▇▇▇▇▆▆▆▆▆▆▅▅▅▄▄▄▄▃▃▃▃▂▂▂▂▂▂▂▁▁▁▁</td></tr><tr><td>concept_val_accuracy</td><td>▄█▆▇█▅▅▄▃▂▆▇▄▅▆▄▄▁▅▇▇▇▃▄▆▅▃▄▁▅▃▃▄▃▅▄▅▆▄▄</td></tr><tr><td>loss</td><td>███▇▇▇▆▆▆▆▅▅▄▄▄▄▃▃▃▃▂▂▂▂▂▂▂▂▂▂▁▁▁▁▁▁▁▁▁▁</td></tr><tr><td>train_accuracy</td><td>▁▁▁▂▃▃▃▄▄▄▄▅▆▆▆▇▇▇▇▇▇▇▇▇▇▇▇▇█▇██████████</td></tr><tr><td>train_concept_accuracy</td><td>▁▁▂▂▂▂▂▂▂▂▂▃▃▃▃▃▄▄▄▄▅▅▅▅▆▆▆▆▇▇▇▇▇▇██████</td></tr><tr><td>validation_accuracy</td><td>▁▁▁▂▁▅▃▃▅▃▃▂▂▇▆▅▆▃▇▅▆▆▇▆▅▃▃▆▆▅▅█▅▆▇▅▆▆▇▇</td></tr></table><br/></div><div class=\"wandb-col\"><h3>Run summary:</h3><br/><table class=\"wandb\"><tr><td>concept_loss:</td><td>0.05213</td></tr><tr><td>concept_val_accuracy</td><td>0.7551</td></tr><tr><td>loss</td><td>1.47958</td></tr><tr><td>train_accuracy</td><td>0.5543</td></tr><tr><td>train_concept_accuracy</td><td>0.98853</td></tr><tr><td>validation_accuracy</td><td>0.71429</td></tr></table><br/></div></div>"
      ]
     },
     "metadata": {},
     "output_type": "display_data"
    },
    {
     "data": {
      "text/plain": [
       "<IPython.core.display.HTML object>"
      ],
      "text/html": [
       " View run <strong style=\"color:#cdcd00\">run2024-05-05 17:13:29.569731</strong> at: <a href='https://wandb.ai/nlp_ass3/PracticalWork/runs/2gqvgu3v' target=\"_blank\">https://wandb.ai/nlp_ass3/PracticalWork/runs/2gqvgu3v</a><br/> View project at: <a href='https://wandb.ai/nlp_ass3/PracticalWork' target=\"_blank\">https://wandb.ai/nlp_ass3/PracticalWork</a><br/>Synced 5 W&B file(s), 0 media file(s), 0 artifact file(s) and 0 other file(s)"
      ]
     },
     "metadata": {},
     "output_type": "display_data"
    },
    {
     "data": {
      "text/plain": [
       "<IPython.core.display.HTML object>"
      ],
      "text/html": [
       "Find logs at: <code>.\\wandb\\run-20240505_171331-2gqvgu3v\\logs</code>"
      ]
     },
     "metadata": {},
     "output_type": "display_data"
    },
    {
     "name": "stdout",
     "output_type": "stream",
     "text": [
      "Finished Training\n"
     ]
    }
   ],
   "execution_count": 6
  },
  {
   "metadata": {
    "ExecuteTime": {
     "end_time": "2024-05-05T15:26:33.885043Z",
     "start_time": "2024-05-05T15:26:33.882494Z"
    }
   },
   "cell_type": "code",
   "source": "",
   "id": "5f2afc98093dc8ae",
   "outputs": [],
   "execution_count": 6
  },
  {
   "metadata": {
    "ExecuteTime": {
     "end_time": "2024-05-05T15:26:33.888070Z",
     "start_time": "2024-05-05T15:26:33.886040Z"
    }
   },
   "cell_type": "code",
   "source": "",
   "id": "d8cef1fa7c3ec177",
   "outputs": [],
   "execution_count": 6
  }
 ],
 "metadata": {
  "kernelspec": {
   "display_name": "Python 3",
   "language": "python",
   "name": "python3"
  },
  "language_info": {
   "codemirror_mode": {
    "name": "ipython",
    "version": 2
   },
   "file_extension": ".py",
   "mimetype": "text/x-python",
   "name": "python",
   "nbconvert_exporter": "python",
   "pygments_lexer": "ipython2",
   "version": "2.7.6"
  }
 },
 "nbformat": 4,
 "nbformat_minor": 5
}
