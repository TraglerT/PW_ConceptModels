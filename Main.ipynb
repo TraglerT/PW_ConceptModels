{
 "cells": [
  {
   "cell_type": "markdown",
   "source": [
    "Practical Work in AI - Concept Models\n",
    "Tragler Thomas\n",
    "====================\n"
   ],
   "metadata": {
    "collapsed": false
   },
   "id": "1227a7aeda095bcd"
  },
  {
   "cell_type": "code",
   "outputs": [
    {
     "data": {
      "text/plain": "<module 'derm7pt_data' from 'D:\\\\Business\\\\Uni\\\\Practical Work\\\\PW_ConceptModels\\\\derm7pt_data.py'>"
     },
     "execution_count": 1,
     "metadata": {},
     "output_type": "execute_result"
    }
   ],
   "source": [
    "import sys\n",
    "\n",
    "import pandas as pd\n",
    "import os\n",
    "import torch\n",
    "import torch.nn as nn\n",
    "from torch.utils.data import random_split\n",
    "from torch.utils.data import DataLoader\n",
    "import numpy as np\n",
    "import matplotlib.pyplot as plt\n",
    "import wandb\n",
    "from datetime import datetime\n",
    "import torch.optim as optim\n",
    "from sklearn.model_selection import KFold\n",
    "\n",
    "import derm7pt_data\n",
    "from derm7pt_data import Derm7pt_data\n",
    "\n",
    "from importlib import reload\n",
    "\n",
    "\n",
    "reload(derm7pt_data)"
   ],
   "metadata": {
    "collapsed": false,
    "ExecuteTime": {
     "end_time": "2024-03-31T17:26:01.512587Z",
     "start_time": "2024-03-31T17:25:56.589791Z"
    }
   },
   "id": "fe5d31376103f7ce",
   "execution_count": 1
  },
  {
   "cell_type": "code",
   "outputs": [
    {
     "name": "stdout",
     "output_type": "stream",
     "text": [
      "(680, 20)\n",
      "device: cuda\n"
     ]
    }
   ],
   "source": [
    "#Data loading\n",
    "path = os.path.normpath('Data\\\\Derm7pt')\n",
    "\n",
    "derm7pt = Derm7pt_data(path)\n",
    "metadata = derm7pt.metadata\n",
    "print(metadata.shape)\n",
    "device = torch.device(\"cuda\" if torch.cuda.is_available() else \"cpu\")\n",
    "\n",
    "print(\"device:\", device)"
   ],
   "metadata": {
    "collapsed": false,
    "ExecuteTime": {
     "end_time": "2024-03-31T17:26:01.548870Z",
     "start_time": "2024-03-31T17:26:01.513579Z"
    }
   },
   "id": "86077796b8573934",
   "execution_count": 2
  },
  {
   "cell_type": "code",
   "outputs": [
    {
     "data": {
      "text/plain": "Index(['case_num', 'diagnosis', 'seven_point_score', 'pigment_network',\n       'streaks', 'pigmentation', 'regression_structures', 'dots_and_globules',\n       'blue_whitish_veil', 'vascular_structures',\n       'level_of_diagnostic_difficulty', 'elevation', 'location', 'sex',\n       'clinic', 'derm', 'nums', 'is_cancer', 'abbrevs', 'info'],\n      dtype='object')"
     },
     "execution_count": 3,
     "metadata": {},
     "output_type": "execute_result"
    }
   ],
   "source": [
    "metadata.columns"
   ],
   "metadata": {
    "collapsed": false,
    "ExecuteTime": {
     "end_time": "2024-03-31T17:26:01.554363Z",
     "start_time": "2024-03-31T17:26:01.549865Z"
    }
   },
   "id": "8655759d3cce7bf6",
   "execution_count": 3
  },
  {
   "cell_type": "code",
   "outputs": [],
   "source": [
    "#Torch CNN model with 3 Conv layers and 3 fully connected layers\n",
    "class Net(nn.Module):\n",
    "    def __init__(self, num_classes=1, image_size=(192, 128)):\n",
    "        super(Net, self).__init__()\n",
    "        mod = 1\n",
    "        \n",
    "        #conv Layers\n",
    "        in_channels, out_channels = (3, 16)\n",
    "        self.conv1 = nn.Conv2d(in_channels=in_channels, out_channels=out_channels, kernel_size=3, stride=1, padding=1)\n",
    "        self.pool1 = nn.MaxPool2d(kernel_size=4, stride=4, padding=0)\n",
    "        mod *= 4\n",
    "        \n",
    "        in_channels, out_channels = (out_channels, 2*out_channels)\n",
    "        self.conv2 = nn.Conv2d(in_channels=in_channels, out_channels=out_channels, kernel_size=3, stride=1, padding=1)\n",
    "        self.pool2 = nn.MaxPool2d(kernel_size=2, stride=2, padding=0)\n",
    "        mod *= 2\n",
    "        \n",
    "        in_channels, out_channels = (out_channels, out_channels)\n",
    "        self.conv3 = nn.Conv2d(in_channels=in_channels, out_channels=out_channels, kernel_size=3, stride=1, padding=1)\n",
    "        self.pool3 = nn.MaxPool2d(kernel_size=2, stride=2, padding=0)\n",
    "        mod *= 2\n",
    "        \n",
    "        # Fully connected layers\n",
    "        self.first_linear_layer_size = out_channels * (image_size[0]//mod * image_size[1]//mod)\n",
    "        self.fc1 = nn.Linear(self.first_linear_layer_size, 256)  # Adjust the input size based on your image dimensions\n",
    "        self.fc2 = nn.Linear(256, 64)\n",
    "        self.fc3 = nn.Linear(64, num_classes)  # Output layer with one neuron for binary classification\n",
    "        \n",
    "        self.relu = nn.ReLU()\n",
    "        self.softmax = nn.Softmax(dim=1)\n",
    "\n",
    "    def forward(self, x):\n",
    "        # Convolutional layers with activation and pooling\n",
    "        x = self.relu(self.conv1(x))\n",
    "        x = self.pool1(x)\n",
    "        x = self.relu(self.conv2(x))\n",
    "        x = self.pool2(x)\n",
    "        x = self.relu(self.conv3(x))\n",
    "        x = self.pool3(x)\n",
    "\n",
    "        # Flatten the output for fully connected layers\n",
    "        x = x.view(-1, self.first_linear_layer_size)  # Corrected input size based on spatial dimensions\n",
    "\n",
    "        # Fully connected layers with activation\n",
    "        x = self.relu(self.fc1(x))\n",
    "        x = self.relu(self.fc2(x))\n",
    "        x = self.softmax(self.fc3(x))\n",
    "\n",
    "        return x\n",
    "    \n",
    "def majority_class_baseline(true_labels):\n",
    "    # Find the most frequent class in the training set\n",
    "    elems, counts = true_labels.unique(return_counts=True)\n",
    "    majority_count = counts[counts.argmax()]\n",
    "    majority_class = elems[counts.argmax()]\n",
    "    #predictions = torch.full_like(true_labels, majority_class)\n",
    "    accuracy = majority_count / len(true_labels)\n",
    "    return majority_class, accuracy"
   ],
   "metadata": {
    "collapsed": false,
    "ExecuteTime": {
     "end_time": "2024-03-31T17:26:01.566900Z",
     "start_time": "2024-03-31T17:26:01.555866Z"
    }
   },
   "id": "305f0aca53622262",
   "execution_count": 4
  },
  {
   "cell_type": "code",
   "outputs": [
    {
     "name": "stderr",
     "output_type": "stream",
     "text": [
      "\u001B[34m\u001B[1mwandb\u001B[0m: Currently logged in as: \u001B[33mtraglert\u001B[0m (\u001B[33mnlp_ass3\u001B[0m). Use \u001B[1m`wandb login --relogin`\u001B[0m to force relogin\n"
     ]
    },
    {
     "data": {
      "text/plain": "<IPython.core.display.HTML object>",
      "text/html": "wandb version 0.16.5 is available!  To upgrade, please run:\n $ pip install wandb --upgrade"
     },
     "metadata": {},
     "output_type": "display_data"
    },
    {
     "data": {
      "text/plain": "<IPython.core.display.HTML object>",
      "text/html": "Tracking run with wandb version 0.16.1"
     },
     "metadata": {},
     "output_type": "display_data"
    },
    {
     "data": {
      "text/plain": "<IPython.core.display.HTML object>",
      "text/html": "Run data is saved locally in <code>D:\\Business\\Uni\\Practical Work\\PW_ConceptModels\\wandb\\run-20240331_192604-mwz42czz</code>"
     },
     "metadata": {},
     "output_type": "display_data"
    },
    {
     "data": {
      "text/plain": "<IPython.core.display.HTML object>",
      "text/html": "Syncing run <strong><a href='https://wandb.ai/nlp_ass3/PracticalWork/runs/mwz42czz' target=\"_blank\">run2024-03-31 19:26:01.582846</a></strong> to <a href='https://wandb.ai/nlp_ass3/PracticalWork' target=\"_blank\">Weights & Biases</a> (<a href='https://wandb.me/run' target=\"_blank\">docs</a>)<br/>"
     },
     "metadata": {},
     "output_type": "display_data"
    },
    {
     "data": {
      "text/plain": "<IPython.core.display.HTML object>",
      "text/html": " View project at <a href='https://wandb.ai/nlp_ass3/PracticalWork' target=\"_blank\">https://wandb.ai/nlp_ass3/PracticalWork</a>"
     },
     "metadata": {},
     "output_type": "display_data"
    },
    {
     "data": {
      "text/plain": "<IPython.core.display.HTML object>",
      "text/html": " View run at <a href='https://wandb.ai/nlp_ass3/PracticalWork/runs/mwz42czz' target=\"_blank\">https://wandb.ai/nlp_ass3/PracticalWork/runs/mwz42czz</a>"
     },
     "metadata": {},
     "output_type": "display_data"
    },
    {
     "name": "stdout",
     "output_type": "stream",
     "text": [
      "start validation baseline:  2024-03-31 19:26:05.661509\n",
      "end validation baseline:    2024-03-31 19:26:06.494300 , baseline:  tensor(1)  percent  tensor(0.4941)\n",
      "[1,     2] loss: 1.6031, val_accuracy: 0.4941, simple_baseline: 0.4941\n",
      "[2,     2] loss: 1.5919, val_accuracy: 0.4941, simple_baseline: 0.4941\n",
      "[3,     2] loss: 1.5750, val_accuracy: 0.4941, simple_baseline: 0.4941\n",
      "[4,     2] loss: 1.5534, val_accuracy: 0.4941, simple_baseline: 0.4941\n",
      "[5,     2] loss: 1.5248, val_accuracy: 0.2588, simple_baseline: 0.4941\n",
      "[6,     2] loss: 1.5063, val_accuracy: 0.2471, simple_baseline: 0.4941\n",
      "[7,     2] loss: 1.4881, val_accuracy: 0.2471, simple_baseline: 0.4941\n",
      "[8,     2] loss: 1.4831, val_accuracy: 0.5882, simple_baseline: 0.4941\n",
      "[9,     2] loss: 1.4668, val_accuracy: 0.5765, simple_baseline: 0.4941\n",
      "[10,     2] loss: 1.4682, val_accuracy: 0.5765, simple_baseline: 0.4941\n",
      "[11,     2] loss: 1.4623, val_accuracy: 0.4941, simple_baseline: 0.4941\n",
      "[12,     2] loss: 1.4590, val_accuracy: 0.5294, simple_baseline: 0.4941\n",
      "[13,     2] loss: 1.4577, val_accuracy: 0.4706, simple_baseline: 0.4941\n",
      "[14,     2] loss: 1.4482, val_accuracy: 0.5647, simple_baseline: 0.4941\n",
      "[15,     2] loss: 1.4423, val_accuracy: 0.5529, simple_baseline: 0.4941\n",
      "[16,     2] loss: 1.4426, val_accuracy: 0.5059, simple_baseline: 0.4941\n",
      "[17,     2] loss: 1.4362, val_accuracy: 0.4941, simple_baseline: 0.4941\n",
      "[18,     2] loss: 1.4471, val_accuracy: 0.5059, simple_baseline: 0.4941\n",
      "[19,     2] loss: 1.4304, val_accuracy: 0.5765, simple_baseline: 0.4941\n",
      "[20,     2] loss: 1.4215, val_accuracy: 0.4941, simple_baseline: 0.4941\n",
      "[21,     2] loss: 1.4249, val_accuracy: 0.5294, simple_baseline: 0.4941\n",
      "[22,     2] loss: 1.4258, val_accuracy: 0.5294, simple_baseline: 0.4941\n",
      "[23,     2] loss: 1.4174, val_accuracy: 0.5176, simple_baseline: 0.4941\n",
      "[24,     2] loss: 1.4073, val_accuracy: 0.5294, simple_baseline: 0.4941\n",
      "[25,     2] loss: 1.4082, val_accuracy: 0.5059, simple_baseline: 0.4941\n",
      "[26,     2] loss: 1.4089, val_accuracy: 0.5059, simple_baseline: 0.4941\n",
      "[27,     2] loss: 1.4121, val_accuracy: 0.5294, simple_baseline: 0.4941\n",
      "[28,     2] loss: 1.4096, val_accuracy: 0.4941, simple_baseline: 0.4941\n",
      "[29,     2] loss: 1.4035, val_accuracy: 0.5176, simple_baseline: 0.4941\n",
      "[30,     2] loss: 1.4022, val_accuracy: 0.5059, simple_baseline: 0.4941\n"
     ]
    },
    {
     "data": {
      "text/plain": "VBox(children=(Label(value='0.001 MB of 0.007 MB uploaded\\r'), FloatProgress(value=0.1740900992618987, max=1.0…",
      "application/vnd.jupyter.widget-view+json": {
       "version_major": 2,
       "version_minor": 0,
       "model_id": "64181786beb844569cf8ee06a852ed62"
      }
     },
     "metadata": {},
     "output_type": "display_data"
    },
    {
     "data": {
      "text/plain": "<IPython.core.display.HTML object>",
      "text/html": "<style>\n    table.wandb td:nth-child(1) { padding: 0 10px; text-align: left ; width: auto;} td:nth-child(2) {text-align: left ; width: 100%}\n    .wandb-row { display: flex; flex-direction: row; flex-wrap: wrap; justify-content: flex-start; width: 100% }\n    .wandb-col { display: flex; flex-direction: column; flex-basis: 100%; flex: 1; padding: 10px; }\n    </style>\n<div class=\"wandb-row\"><div class=\"wandb-col\"><h3>Run history:</h3><br/><table class=\"wandb\"><tr><td>loss</td><td>██▇▆▅▅▄▄▃▃▃▃▃▃▂▂▂▃▂▂▂▂▂▁▁▁▁▁▁▁</td></tr><tr><td>validation_accuracy</td><td>▆▆▆▆▁▁▁███▆▇▆█▇▆▆▆█▆▇▇▇▇▆▆▇▆▇▆</td></tr></table><br/></div><div class=\"wandb-col\"><h3>Run summary:</h3><br/><table class=\"wandb\"><tr><td>loss</td><td>1.40225</td></tr><tr><td>validation_accuracy</td><td>0.50588</td></tr></table><br/></div></div>"
     },
     "metadata": {},
     "output_type": "display_data"
    },
    {
     "data": {
      "text/plain": "<IPython.core.display.HTML object>",
      "text/html": " View run <strong style=\"color:#cdcd00\">run2024-03-31 19:26:01.582846</strong> at: <a href='https://wandb.ai/nlp_ass3/PracticalWork/runs/mwz42czz' target=\"_blank\">https://wandb.ai/nlp_ass3/PracticalWork/runs/mwz42czz</a><br/> View job at <a href='https://wandb.ai/nlp_ass3/PracticalWork/jobs/QXJ0aWZhY3RDb2xsZWN0aW9uOjE1MDA4MzQ4NQ==/version_details/v12' target=\"_blank\">https://wandb.ai/nlp_ass3/PracticalWork/jobs/QXJ0aWZhY3RDb2xsZWN0aW9uOjE1MDA4MzQ4NQ==/version_details/v12</a><br/>Synced 5 W&B file(s), 0 media file(s), 0 artifact file(s) and 0 other file(s)"
     },
     "metadata": {},
     "output_type": "display_data"
    },
    {
     "data": {
      "text/plain": "<IPython.core.display.HTML object>",
      "text/html": "Find logs at: <code>.\\wandb\\run-20240331_192604-mwz42czz\\logs</code>"
     },
     "metadata": {},
     "output_type": "display_data"
    },
    {
     "name": "stdout",
     "output_type": "stream",
     "text": [
      "Finished Training\n"
     ]
    }
   ],
   "source": [
    "#Training the model\n",
    "# hyperparameters\n",
    "n_epochs = 30\n",
    "learning_rate = 0.00002\n",
    "n_folds = 8\n",
    "batch_size = 64\n",
    "\n",
    "num_classes = derm7pt.diagnosis[derm7pt.model_columns[\"label\"]].nunique()\n",
    "#Categorical crossentropy loss\n",
    "criterion = nn.CrossEntropyLoss()\n",
    "\n",
    "wandb.init(\n",
    "    # set the wandb project where this run will be logged\n",
    "    project= \"PracticalWork\",\n",
    "    \n",
    "    # track hyperparameters and run metadata\n",
    "    config={\n",
    "    \"learning_rate\": learning_rate,\n",
    "    \"architecture\": \"SimpleCNN\",\n",
    "    \"dataset\": \"derm7pt\",\n",
    "    \"labels\": derm7pt.model_columns[\"label\"],\n",
    "    \"epochs\": n_epochs,\n",
    "    \"batch_size\": batch_size,\n",
    "    \"n_folds\": n_folds,\n",
    "    \"device\": device\n",
    "    },\n",
    "    name=\"run\"+str(datetime.now())\n",
    ")\n",
    "\n",
    "\n",
    "simple_val_baseline = 0\n",
    "\n",
    "# Training loop\n",
    "kf = KFold(n_splits=n_folds, shuffle=True)\n",
    "for fold, (train_idx, val_idx) in enumerate(kf.split(derm7pt.metadata)):\n",
    "    #Todo Hackfix to get the majority class of the validation set\n",
    "    print(\"start validation baseline: \", datetime.now())\n",
    "    if True:\n",
    "        val_loader = DataLoader(\n",
    "            dataset=derm7pt,\n",
    "            batch_size=999999,\n",
    "            sampler=torch.utils.data.SubsetRandomSampler(val_idx),\n",
    "        )\n",
    "        for i, batch in enumerate(val_loader, 0):\n",
    "            inputs, labels = batch\n",
    "            baseline, simple_val_baseline = majority_class_baseline(labels)\n",
    "    print(\"end validation baseline:   \", datetime.now(), \", baseline: \", baseline, \" percent \",  simple_val_baseline)\n",
    "    \n",
    "    train_loader = DataLoader(\n",
    "        dataset=derm7pt,\n",
    "        batch_size=batch_size,\n",
    "        sampler=torch.utils.data.SubsetRandomSampler(train_idx),\n",
    "    )\n",
    "    val_loader = DataLoader(\n",
    "        dataset=derm7pt,\n",
    "        batch_size=batch_size,\n",
    "        sampler=torch.utils.data.SubsetRandomSampler(val_idx),\n",
    "    )\n",
    "    \n",
    "    # Instantiate the model\n",
    "    model = Net(num_classes, derm7pt.image_size)\n",
    "    model.to(device)\n",
    "    optimizer = optim.Adam(model.parameters(), lr=learning_rate)\n",
    "    \n",
    "    for epoch in range(n_epochs):\n",
    "        running_loss = 0.0\n",
    "        i = 0\n",
    "        for i, batch in enumerate(train_loader, 0):\n",
    "            inputs, labels = batch\n",
    "            #ToDo one hot encoding in Dataloader\n",
    "            labels = torch.eye(num_classes)[labels.squeeze().int()]\n",
    "            inputs, labels = inputs.to(device), labels.to(device)\n",
    "    \n",
    "            # Zero the parameter gradients\n",
    "            optimizer.zero_grad()\n",
    "    \n",
    "            # Forward pass, backward pass, and optimization\n",
    "            outputs = model(inputs)\n",
    "            loss = criterion(outputs, labels)\n",
    "            loss.backward()\n",
    "            optimizer.step()\n",
    "    \n",
    "            # Print statistics\n",
    "            running_loss += loss.item()\n",
    "            \n",
    "        running_loss /= (i+1)        \n",
    "        \n",
    "        model.eval()\n",
    "        correct = 0\n",
    "        total = 0\n",
    "        with torch.no_grad():\n",
    "            for i, batch in enumerate(val_loader, 0):\n",
    "                images, labels = batch\n",
    "                images, labels = images.to(device), labels.to(device)\n",
    "                output = model(images)\n",
    "                output = output.argmax(dim=1)\n",
    "                total += labels.size(0)\n",
    "                correct += (output == labels.squeeze()).sum().item()\n",
    "                \n",
    "        \n",
    "        val_accuracy = correct/total\n",
    "        wandb.log({\"loss\": running_loss, \"validation_accuracy\": val_accuracy})\n",
    "        print('[%d, %5d] loss: %.4f, val_accuracy: %.4f, simple_baseline: %.4f' % (epoch + 1, i + 1, running_loss, val_accuracy, simple_val_baseline))   \n",
    "        \n",
    "        \n",
    "        #ToDo early stopping\n",
    "        if running_loss < 0.01:\n",
    "            print(\"Early stopping!\")\n",
    "            break\n",
    "    \n",
    "    #ToDo only one fold for now\n",
    "    break\n",
    "\n",
    "wandb.finish()\n",
    "print('Finished Training')"
   ],
   "metadata": {
    "collapsed": false,
    "ExecuteTime": {
     "end_time": "2024-03-31T17:30:25.901037Z",
     "start_time": "2024-03-31T17:26:01.568884Z"
    }
   },
   "id": "dbd65506a0b0acbd",
   "execution_count": 5
  },
  {
   "cell_type": "code",
   "outputs": [
    {
     "name": "stdout",
     "output_type": "stream",
     "text": [
      "done\n"
     ]
    }
   ],
   "source": [
    "print(\"done\")"
   ],
   "metadata": {
    "collapsed": false,
    "ExecuteTime": {
     "end_time": "2024-03-31T17:30:25.906022Z",
     "start_time": "2024-03-31T17:30:25.902033Z"
    }
   },
   "id": "f90df522a2360f21",
   "execution_count": 6
  },
  {
   "cell_type": "code",
   "outputs": [],
   "source": [],
   "metadata": {
    "collapsed": false,
    "ExecuteTime": {
     "end_time": "2024-03-31T17:30:25.910364Z",
     "start_time": "2024-03-31T17:30:25.908018Z"
    }
   },
   "id": "a6cdb832dc0e4b44",
   "execution_count": 6
  }
 ],
 "metadata": {
  "kernelspec": {
   "display_name": "Python 3",
   "language": "python",
   "name": "python3"
  },
  "language_info": {
   "codemirror_mode": {
    "name": "ipython",
    "version": 2
   },
   "file_extension": ".py",
   "mimetype": "text/x-python",
   "name": "python",
   "nbconvert_exporter": "python",
   "pygments_lexer": "ipython2",
   "version": "2.7.6"
  }
 },
 "nbformat": 4,
 "nbformat_minor": 5
}
