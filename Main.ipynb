{
 "cells": [
  {
   "cell_type": "markdown",
   "source": [
    "Practical Work in AI - Concept Models\n",
    "Tragler Thomas\n",
    "====================\n"
   ],
   "metadata": {
    "collapsed": false
   },
   "id": "1227a7aeda095bcd"
  },
  {
   "cell_type": "code",
   "outputs": [
    {
     "data": {
      "text/plain": "<module 'derm7pt_data' from 'D:\\\\Business\\\\Uni\\\\Practical Work\\\\PW_ConceptModels\\\\derm7pt_data.py'>"
     },
     "execution_count": 1,
     "metadata": {},
     "output_type": "execute_result"
    }
   ],
   "source": [
    "import pandas as pd\n",
    "import os\n",
    "import torch\n",
    "from torch.utils.data import random_split\n",
    "from torch.utils.data import DataLoader\n",
    "import numpy as np\n",
    "import matplotlib.pyplot as plt\n",
    "import wandb\n",
    "from datetime import datetime\n",
    "import torch.optim as optim\n",
    "from sklearn.model_selection import KFold\n",
    "\n",
    "import derm7pt_data\n",
    "from derm7pt_data import Derm7pt_data\n",
    "\n",
    "from importlib import reload\n",
    "\n",
    "\n",
    "reload(derm7pt_data)"
   ],
   "metadata": {
    "collapsed": false,
    "ExecuteTime": {
     "end_time": "2024-03-30T17:46:58.077193Z",
     "start_time": "2024-03-30T17:46:52.777105Z"
    }
   },
   "id": "fe5d31376103f7ce",
   "execution_count": 1
  },
  {
   "cell_type": "code",
   "outputs": [
    {
     "name": "stdout",
     "output_type": "stream",
     "text": [
      "(1305, 20)\n",
      "device: cuda\n"
     ]
    }
   ],
   "source": [
    "#Data loading\n",
    "path = os.path.normpath('Data\\\\Derm7pt')\n",
    "\n",
    "derm7pt = Derm7pt_data(path)\n",
    "metadata = derm7pt.metadata\n",
    "print(metadata.shape)\n",
    "device = torch.device(\"cuda\" if torch.cuda.is_available() else \"cpu\")\n",
    "\n",
    "print(\"device:\", device)"
   ],
   "metadata": {
    "collapsed": false,
    "ExecuteTime": {
     "end_time": "2024-03-30T17:46:58.114776Z",
     "start_time": "2024-03-30T17:46:58.078187Z"
    }
   },
   "id": "86077796b8573934",
   "execution_count": 2
  },
  {
   "cell_type": "code",
   "outputs": [
    {
     "data": {
      "text/plain": "Index(['case_num', 'diagnosis', 'seven_point_score', 'pigment_network',\n       'streaks', 'pigmentation', 'regression_structures', 'dots_and_globules',\n       'blue_whitish_veil', 'vascular_structures',\n       'level_of_diagnostic_difficulty', 'elevation', 'location', 'sex',\n       'clinic', 'derm', 'nums', 'is_cancer', 'abbrevs', 'info'],\n      dtype='object')"
     },
     "execution_count": 4,
     "metadata": {},
     "output_type": "execute_result"
    }
   ],
   "source": [
    "metadata.columns"
   ],
   "metadata": {
    "collapsed": false,
    "ExecuteTime": {
     "end_time": "2024-03-30T17:46:58.126339Z",
     "start_time": "2024-03-30T17:46:58.121264Z"
    }
   },
   "id": "8655759d3cce7bf6",
   "execution_count": 4
  },
  {
   "cell_type": "code",
   "outputs": [],
   "source": [
    "#Torch CNN model with 3 Conv layers and 3 fully connected layers\n",
    "import torch.nn as nn\n",
    "\n",
    "class Net(nn.Module):\n",
    "    def __init__(self, image_size=(192, 128)):\n",
    "        super(Net, self).__init__()\n",
    "        mod = 1\n",
    "        \n",
    "        #conv Layers\n",
    "        in_channels, out_channels = (3, 16)\n",
    "        self.conv1 = nn.Conv2d(in_channels=in_channels, out_channels=out_channels, kernel_size=3, stride=1, padding=1)\n",
    "        self.pool1 = nn.MaxPool2d(kernel_size=4, stride=4, padding=0)\n",
    "        mod *= 4\n",
    "        \n",
    "        in_channels, out_channels = (out_channels, 2*out_channels)\n",
    "        self.conv2 = nn.Conv2d(in_channels=in_channels, out_channels=out_channels, kernel_size=3, stride=1, padding=1)\n",
    "        self.pool2 = nn.MaxPool2d(kernel_size=2, stride=2, padding=0)\n",
    "        mod *= 2\n",
    "        \n",
    "        in_channels, out_channels = (out_channels, out_channels)\n",
    "        self.conv3 = nn.Conv2d(in_channels=in_channels, out_channels=out_channels, kernel_size=3, stride=1, padding=1)\n",
    "        self.pool3 = nn.MaxPool2d(kernel_size=2, stride=2, padding=0)\n",
    "        mod *= 2\n",
    "        \n",
    "        # Fully connected layers\n",
    "        self.first_linear_layer_size = out_channels * (image_size[0]//mod * image_size[1]//mod)\n",
    "        self.fc1 = nn.Linear(self.first_linear_layer_size, 256)  # Adjust the input size based on your image dimensions\n",
    "        self.fc2 = nn.Linear(256, 64)\n",
    "        self.fc3 = nn.Linear(64, 1)  # Output layer with one neuron for binary classification\n",
    "        \n",
    "        self.relu = nn.ReLU()\n",
    "        self.sigmoid = nn.Sigmoid()\n",
    "\n",
    "    def forward(self, x):\n",
    "        # Convolutional layers with activation and pooling\n",
    "        x = self.relu(self.conv1(x))\n",
    "        x = self.pool1(x)\n",
    "        x = self.relu(self.conv2(x))\n",
    "        x = self.pool2(x)\n",
    "        x = self.relu(self.conv3(x))\n",
    "        x = self.pool3(x)\n",
    "\n",
    "        # Flatten the output for fully connected layers\n",
    "        x = x.view(-1, self.first_linear_layer_size)  # Corrected input size based on spatial dimensions\n",
    "\n",
    "        # Fully connected layers with activation\n",
    "        x = self.relu(self.fc1(x))\n",
    "        x = self.relu(self.fc2(x))\n",
    "        x = self.fc3(x)\n",
    "        x = x\n",
    "\n",
    "        return x\n",
    "    \n",
    "def majority_class_baseline(true_labels):\n",
    "    # Find the most frequent class in the training set\n",
    "    elems, counts = true_labels.unique(return_counts=True)\n",
    "    majority_count = counts[counts.argmax()]\n",
    "    majority_class = elems[counts.argmax()]\n",
    "    #predictions = torch.full_like(true_labels, majority_class)\n",
    "    accuracy = majority_count / len(true_labels)\n",
    "    return majority_class, accuracy"
   ],
   "metadata": {
    "collapsed": false,
    "ExecuteTime": {
     "end_time": "2024-03-30T17:46:58.135618Z",
     "start_time": "2024-03-30T17:46:58.127329Z"
    }
   },
   "id": "305f0aca53622262",
   "execution_count": 5
  },
  {
   "cell_type": "code",
   "outputs": [
    {
     "data": {
      "text/plain": "<IPython.core.display.HTML object>",
      "text/html": "wandb version 0.16.5 is available!  To upgrade, please run:\n $ pip install wandb --upgrade"
     },
     "metadata": {},
     "output_type": "display_data"
    },
    {
     "data": {
      "text/plain": "<IPython.core.display.HTML object>",
      "text/html": "Tracking run with wandb version 0.16.1"
     },
     "metadata": {},
     "output_type": "display_data"
    },
    {
     "data": {
      "text/plain": "<IPython.core.display.HTML object>",
      "text/html": "Run data is saved locally in <code>D:\\Business\\Uni\\Practical Work\\PW_ConceptModels\\wandb\\run-20240330_185712-phf2q5mb</code>"
     },
     "metadata": {},
     "output_type": "display_data"
    },
    {
     "data": {
      "text/plain": "<IPython.core.display.HTML object>",
      "text/html": "Syncing run <strong><a href='https://wandb.ai/nlp_ass3/PracticalWork/runs/phf2q5mb' target=\"_blank\">run2024-03-30 18:57:12.872891</a></strong> to <a href='https://wandb.ai/nlp_ass3/PracticalWork' target=\"_blank\">Weights & Biases</a> (<a href='https://wandb.me/run' target=\"_blank\">docs</a>)<br/>"
     },
     "metadata": {},
     "output_type": "display_data"
    },
    {
     "data": {
      "text/plain": "<IPython.core.display.HTML object>",
      "text/html": " View project at <a href='https://wandb.ai/nlp_ass3/PracticalWork' target=\"_blank\">https://wandb.ai/nlp_ass3/PracticalWork</a>"
     },
     "metadata": {},
     "output_type": "display_data"
    },
    {
     "data": {
      "text/plain": "<IPython.core.display.HTML object>",
      "text/html": " View run at <a href='https://wandb.ai/nlp_ass3/PracticalWork/runs/phf2q5mb' target=\"_blank\">https://wandb.ai/nlp_ass3/PracticalWork/runs/phf2q5mb</a>"
     },
     "metadata": {},
     "output_type": "display_data"
    },
    {
     "name": "stdout",
     "output_type": "stream",
     "text": [
      "2024-03-30 18:57:14.316573\n",
      "finished  2024-03-30 18:57:15.747757 , baseline:  tensor(0.)  percent  tensor(0.5427)\n",
      "[1,     1] loss: 0.6710, val_accuracy: 0.6094, simple_baseline: 0.5427\n",
      "[2,     1] loss: 0.6134, val_accuracy: 0.7500, simple_baseline: 0.5427\n",
      "[3,     1] loss: 0.5795, val_accuracy: 0.7344, simple_baseline: 0.5427\n",
      "[4,     1] loss: 0.5767, val_accuracy: 0.6250, simple_baseline: 0.5427\n",
      "[5,     1] loss: 0.5517, val_accuracy: 0.7344, simple_baseline: 0.5427\n",
      "[6,     1] loss: 0.5352, val_accuracy: 0.6250, simple_baseline: 0.5427\n",
      "[7,     1] loss: 0.4888, val_accuracy: 0.6875, simple_baseline: 0.5427\n",
      "[8,     1] loss: 0.4622, val_accuracy: 0.7656, simple_baseline: 0.5427\n",
      "[9,     1] loss: 0.4420, val_accuracy: 0.7656, simple_baseline: 0.5427\n",
      "[10,     1] loss: 0.4032, val_accuracy: 0.7500, simple_baseline: 0.5427\n",
      "[11,     1] loss: 0.3602, val_accuracy: 0.7812, simple_baseline: 0.5427\n",
      "[12,     1] loss: 0.3230, val_accuracy: 0.7812, simple_baseline: 0.5427\n",
      "[13,     1] loss: 0.2640, val_accuracy: 0.7031, simple_baseline: 0.5427\n",
      "[14,     1] loss: 0.2399, val_accuracy: 0.7500, simple_baseline: 0.5427\n",
      "[15,     1] loss: 0.2191, val_accuracy: 0.7500, simple_baseline: 0.5427\n",
      "[16,     1] loss: 0.1587, val_accuracy: 0.8125, simple_baseline: 0.5427\n",
      "[17,     1] loss: 0.0905, val_accuracy: 0.8125, simple_baseline: 0.5427\n",
      "[18,     1] loss: 0.0818, val_accuracy: 0.7812, simple_baseline: 0.5427\n",
      "[19,     1] loss: 0.1025, val_accuracy: 0.8438, simple_baseline: 0.5427\n",
      "[20,     1] loss: 0.0606, val_accuracy: 0.7812, simple_baseline: 0.5427\n",
      "[21,     1] loss: 0.0319, val_accuracy: 0.8750, simple_baseline: 0.5427\n",
      "[22,     1] loss: 0.0130, val_accuracy: 0.8281, simple_baseline: 0.5427\n",
      "[23,     1] loss: 0.0220, val_accuracy: 0.8906, simple_baseline: 0.5427\n",
      "[24,     1] loss: 0.0111, val_accuracy: 0.8281, simple_baseline: 0.5427\n",
      "[25,     1] loss: 0.0030, val_accuracy: 0.9062, simple_baseline: 0.5427\n",
      "[26,     1] loss: 0.0015, val_accuracy: 0.8750, simple_baseline: 0.5427\n",
      "[27,     1] loss: 0.0011, val_accuracy: 0.8594, simple_baseline: 0.5427\n",
      "[28,     1] loss: 0.0007, val_accuracy: 0.9062, simple_baseline: 0.5427\n",
      "Early stopping!\n"
     ]
    },
    {
     "data": {
      "text/plain": "VBox(children=(Label(value='0.001 MB of 0.004 MB uploaded\\r'), FloatProgress(value=0.30652027784001795, max=1.…",
      "application/vnd.jupyter.widget-view+json": {
       "version_major": 2,
       "version_minor": 0,
       "model_id": "1cc1a6ce72fc4e34acc3702b7d68a656"
      }
     },
     "metadata": {},
     "output_type": "display_data"
    },
    {
     "data": {
      "text/plain": "<IPython.core.display.HTML object>",
      "text/html": "<style>\n    table.wandb td:nth-child(1) { padding: 0 10px; text-align: left ; width: auto;} td:nth-child(2) {text-align: left ; width: 100%}\n    .wandb-row { display: flex; flex-direction: row; flex-wrap: wrap; justify-content: flex-start; width: 100% }\n    .wandb-col { display: flex; flex-direction: column; flex-basis: 100%; flex: 1; padding: 10px; }\n    </style>\n<div class=\"wandb-row\"><div class=\"wandb-col\"><h3>Run history:</h3><br/><table class=\"wandb\"><tr><td>loss</td><td>█▇▇▇▇▇▆▆▆▅▅▄▄▃▃▃▂▂▂▂▁▁▁▁▁▁▁▁</td></tr><tr><td>validation_accuracy</td><td>▁▄▄▁▄▁▃▅▅▄▅▅▃▄▄▆▆▅▇▅▇▆█▆█▇▇█</td></tr></table><br/></div><div class=\"wandb-col\"><h3>Run summary:</h3><br/><table class=\"wandb\"><tr><td>loss</td><td>0.00071</td></tr><tr><td>validation_accuracy</td><td>0.90625</td></tr></table><br/></div></div>"
     },
     "metadata": {},
     "output_type": "display_data"
    },
    {
     "data": {
      "text/plain": "<IPython.core.display.HTML object>",
      "text/html": " View run <strong style=\"color:#cdcd00\">run2024-03-30 18:57:12.872891</strong> at: <a href='https://wandb.ai/nlp_ass3/PracticalWork/runs/phf2q5mb' target=\"_blank\">https://wandb.ai/nlp_ass3/PracticalWork/runs/phf2q5mb</a><br/> View job at <a href='https://wandb.ai/nlp_ass3/PracticalWork/jobs/QXJ0aWZhY3RDb2xsZWN0aW9uOjE1MDA4MzQ4NQ==/version_details/v9' target=\"_blank\">https://wandb.ai/nlp_ass3/PracticalWork/jobs/QXJ0aWZhY3RDb2xsZWN0aW9uOjE1MDA4MzQ4NQ==/version_details/v9</a><br/>Synced 5 W&B file(s), 0 media file(s), 0 artifact file(s) and 0 other file(s)"
     },
     "metadata": {},
     "output_type": "display_data"
    },
    {
     "data": {
      "text/plain": "<IPython.core.display.HTML object>",
      "text/html": "Find logs at: <code>.\\wandb\\run-20240330_185712-phf2q5mb\\logs</code>"
     },
     "metadata": {},
     "output_type": "display_data"
    },
    {
     "name": "stdout",
     "output_type": "stream",
     "text": [
      "Finished Training\n"
     ]
    }
   ],
   "source": [
    "#Training the model\n",
    "\n",
    "# hyperparameters\n",
    "n_epochs = 30\n",
    "learning_rate = 0.001\n",
    "n_folds = 8\n",
    "batch_size = 64\n",
    "\n",
    "criterion = nn.BCEWithLogitsLoss()\n",
    "\n",
    "wandb.init(\n",
    "    # set the wandb project where this run will be logged\n",
    "    project= \"PracticalWork\",\n",
    "    \n",
    "    # track hyperparameters and run metadata\n",
    "    config={\n",
    "    \"learning_rate\": learning_rate,\n",
    "    \"architecture\": \"SimpleCNN\",\n",
    "    \"dataset\": \"derm7pt\",\n",
    "    \"labels\": derm7pt.model_columns[\"label\"],\n",
    "    \"epochs\": n_epochs,\n",
    "    \"batch_size\": batch_size,\n",
    "    \"n_folds\": n_folds,\n",
    "    \"device\": device\n",
    "    },\n",
    "    name=\"run\"+str(datetime.now())\n",
    ")\n",
    "\n",
    "\n",
    "simple_val_baseline = 0\n",
    "\n",
    "# Training loop\n",
    "kf = KFold(n_splits=n_folds, shuffle=True)\n",
    "for fold, (train_idx, val_idx) in enumerate(kf.split(derm7pt.metadata)):\n",
    "    #start of time measurement\n",
    "    #Todo Hackfix to get the majority class of the validation set\n",
    "    print(datetime.now())\n",
    "    if True:\n",
    "        val_loader = DataLoader(\n",
    "            dataset=derm7pt,\n",
    "            batch_size=999999,\n",
    "            sampler=torch.utils.data.SubsetRandomSampler(val_idx),\n",
    "        )\n",
    "        for i, batch in enumerate(val_loader, 0):\n",
    "            inputs, labels = batch\n",
    "            baseline, simple_val_baseline = majority_class_baseline(labels)\n",
    "    print(\"finished \", datetime.now(), \", baseline: \", baseline, \" percent \",  simple_val_baseline)\n",
    "    train_loader = DataLoader(\n",
    "        dataset=derm7pt,\n",
    "        batch_size=batch_size,\n",
    "        sampler=torch.utils.data.SubsetRandomSampler(train_idx),\n",
    "    )\n",
    "    val_loader = DataLoader(\n",
    "        dataset=derm7pt,\n",
    "        batch_size=batch_size,\n",
    "        sampler=torch.utils.data.SubsetRandomSampler(val_idx),\n",
    "    )\n",
    "    \n",
    "    # Instantiate the model\n",
    "    model = Net(derm7pt.image_size)\n",
    "    model.to(device)\n",
    "    optimizer = optim.Adam(model.parameters(), lr=learning_rate)\n",
    "    \n",
    "    \n",
    "    for epoch in range(n_epochs):\n",
    "        running_loss = 0.0\n",
    "        i = 0\n",
    "        for i, batch in enumerate(train_loader, 0):\n",
    "            inputs, labels = batch\n",
    "            inputs, labels = inputs.to(device), labels.to(device)\n",
    "    \n",
    "            # Zero the parameter gradients\n",
    "            optimizer.zero_grad()\n",
    "    \n",
    "            # Forward pass, backward pass, and optimization\n",
    "            outputs = model(inputs)\n",
    "            loss = criterion(outputs, labels)\n",
    "            loss.backward()\n",
    "            optimizer.step()\n",
    "    \n",
    "            # Print statistics\n",
    "            running_loss += loss.item()\n",
    "            \n",
    "        running_loss /= (i+1)        \n",
    "        \n",
    "        model.eval()\n",
    "        correct = 0\n",
    "        total = 0\n",
    "        with torch.no_grad():\n",
    "            for i, batch in enumerate(val_loader, 0):\n",
    "                images, labels = batch\n",
    "                images, labels = images.to(device), labels.to(device)\n",
    "                output = model(images)\n",
    "                output = torch.sigmoid(output) > 0.5\n",
    "                total += labels.size(0)\n",
    "                correct += (output == labels).sum().item()\n",
    "                #print(\"outputs: \", output, total, correct)\n",
    "                break\n",
    "                \n",
    "        \n",
    "        val_accuracy = correct/total\n",
    "        wandb.log({\"loss\": running_loss, \"validation_accuracy\": val_accuracy})\n",
    "        print('[%d, %5d] loss: %.4f, val_accuracy: %.4f, simple_baseline: %.4f' % (epoch + 1, i + 1, running_loss, val_accuracy, simple_val_baseline))   \n",
    "        \n",
    "        \n",
    "        #ToDo early stopping\n",
    "        if running_loss < 0.001:\n",
    "            print(\"Early stopping!\")\n",
    "            break\n",
    "    \n",
    "    #ToDo only one fold for now\n",
    "    break\n",
    "\n",
    "wandb.finish()\n",
    "print('Finished Training')"
   ],
   "metadata": {
    "collapsed": false,
    "ExecuteTime": {
     "end_time": "2024-03-30T18:04:46.312609Z",
     "start_time": "2024-03-30T17:57:12.863914Z"
    }
   },
   "id": "dbd65506a0b0acbd",
   "execution_count": 8
  },
  {
   "cell_type": "code",
   "outputs": [
    {
     "name": "stdout",
     "output_type": "stream",
     "text": [
      "done\n"
     ]
    }
   ],
   "source": [
    "print(\"done\")"
   ],
   "metadata": {
    "collapsed": false,
    "ExecuteTime": {
     "end_time": "2024-03-30T17:52:29.698160Z",
     "start_time": "2024-03-30T17:52:29.694172Z"
    }
   },
   "id": "f90df522a2360f21",
   "execution_count": 7
  },
  {
   "cell_type": "code",
   "outputs": [],
   "source": [],
   "metadata": {
    "collapsed": false,
    "ExecuteTime": {
     "end_time": "2024-03-30T17:52:29.701906Z",
     "start_time": "2024-03-30T17:52:29.699158Z"
    }
   },
   "id": "a6cdb832dc0e4b44",
   "execution_count": 7
  }
 ],
 "metadata": {
  "kernelspec": {
   "display_name": "Python 3",
   "language": "python",
   "name": "python3"
  },
  "language_info": {
   "codemirror_mode": {
    "name": "ipython",
    "version": 2
   },
   "file_extension": ".py",
   "mimetype": "text/x-python",
   "name": "python",
   "nbconvert_exporter": "python",
   "pygments_lexer": "ipython2",
   "version": "2.7.6"
  }
 },
 "nbformat": 4,
 "nbformat_minor": 5
}
